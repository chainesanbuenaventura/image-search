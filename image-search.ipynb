{
 "cells": [
  {
   "cell_type": "markdown",
   "metadata": {},
   "source": [
    "# Installation"
   ]
  },
  {
   "cell_type": "code",
   "execution_count": 1,
   "metadata": {},
   "outputs": [
    {
     "name": "stdout",
     "output_type": "stream",
     "text": [
      "Collecting flickrapi\n",
      "  Using cached flickrapi-2.4.0-py2.py3-none-any.whl (26 kB)\n",
      "Collecting requests-toolbelt>=0.3.1\n",
      "  Downloading requests_toolbelt-0.10.1-py2.py3-none-any.whl (54 kB)\n",
      "\u001b[K     |████████████████████████████████| 54 kB 5.0 MB/s eta 0:00:011\n",
      "\u001b[?25hRequirement already satisfied: six>=1.5.2 in /Users/macbookpro/opt/anaconda3/envs/elasticsearch/lib/python3.6/site-packages (from flickrapi) (1.15.0)\n",
      "Requirement already satisfied: requests>=2.2.1 in /Users/macbookpro/opt/anaconda3/envs/elasticsearch/lib/python3.6/site-packages (from flickrapi) (2.24.0)\n",
      "Collecting requests-oauthlib>=0.4.0\n",
      "  Using cached requests_oauthlib-1.3.1-py2.py3-none-any.whl (23 kB)\n",
      "Requirement already satisfied: urllib3!=1.25.0,!=1.25.1,<1.26,>=1.21.1 in /Users/macbookpro/opt/anaconda3/envs/elasticsearch/lib/python3.6/site-packages (from requests>=2.2.1->flickrapi) (1.25.9)\n",
      "Requirement already satisfied: idna<3,>=2.5 in /Users/macbookpro/opt/anaconda3/envs/elasticsearch/lib/python3.6/site-packages (from requests>=2.2.1->flickrapi) (2.10)\n",
      "Requirement already satisfied: certifi>=2017.4.17 in /Users/macbookpro/opt/anaconda3/envs/elasticsearch/lib/python3.6/site-packages (from requests>=2.2.1->flickrapi) (2020.6.20)\n",
      "Requirement already satisfied: chardet<4,>=3.0.2 in /Users/macbookpro/opt/anaconda3/envs/elasticsearch/lib/python3.6/site-packages (from requests>=2.2.1->flickrapi) (3.0.4)\n",
      "Collecting oauthlib>=3.0.0\n",
      "  Using cached oauthlib-3.2.2-py3-none-any.whl (151 kB)\n",
      "Installing collected packages: requests-toolbelt, oauthlib, requests-oauthlib, flickrapi\n",
      "Successfully installed flickrapi-2.4.0 oauthlib-3.2.2 requests-oauthlib-1.3.1 requests-toolbelt-0.10.1\n",
      "Note: you may need to restart the kernel to use updated packages.\n"
     ]
    }
   ],
   "source": [
    "%pip install flickrapi"
   ]
  },
  {
   "cell_type": "code",
   "execution_count": 2,
   "metadata": {},
   "outputs": [
    {
     "name": "stdout",
     "output_type": "stream",
     "text": [
      "Processing /Users/macbookpro/Library/Caches/pip/wheels/ff/2a/24/75041425faf3347ab146a4a3d0484f723b2c44a7966a06e3f0/ftfy-6.0.3-py3-none-any.whl\n",
      "Requirement already satisfied: regex in /Users/macbookpro/opt/anaconda3/envs/elasticsearch/lib/python3.6/site-packages (2020.6.8)\n",
      "Requirement already satisfied: tqdm in /Users/macbookpro/opt/anaconda3/envs/elasticsearch/lib/python3.6/site-packages (4.47.0)\n",
      "Requirement already satisfied: wcwidth in /Users/macbookpro/opt/anaconda3/envs/elasticsearch/lib/python3.6/site-packages (from ftfy) (0.2.5)\n",
      "Installing collected packages: ftfy\n",
      "Successfully installed ftfy-6.0.3\n",
      "Note: you may need to restart the kernel to use updated packages.\n",
      "Collecting git+https://github.com/openai/CLIP.git\n",
      "  Cloning https://github.com/openai/CLIP.git to /private/var/folders/9z/vxzd5t7x2vn4503l8w3td5pm0000gn/T/pip-req-build-h5e6wlc0\n",
      "  Running command git clone -q https://github.com/openai/CLIP.git /private/var/folders/9z/vxzd5t7x2vn4503l8w3td5pm0000gn/T/pip-req-build-h5e6wlc0\n",
      "Requirement already satisfied: ftfy in /Users/macbookpro/opt/anaconda3/envs/elasticsearch/lib/python3.6/site-packages (from clip==1.0) (6.0.3)\n",
      "Requirement already satisfied: regex in /Users/macbookpro/opt/anaconda3/envs/elasticsearch/lib/python3.6/site-packages (from clip==1.0) (2020.6.8)\n",
      "Requirement already satisfied: tqdm in /Users/macbookpro/opt/anaconda3/envs/elasticsearch/lib/python3.6/site-packages (from clip==1.0) (4.47.0)\n",
      "Collecting torch\n",
      "  Downloading torch-1.10.2-cp36-none-macosx_10_9_x86_64.whl (147.1 MB)\n",
      "\u001b[K     |████████████████████████████████| 147.1 MB 1.5 MB/s eta 0:00:011\n",
      "\u001b[?25hCollecting torchvision\n",
      "  Downloading torchvision-0.11.3-cp36-cp36m-macosx_10_9_x86_64.whl (1.2 MB)\n",
      "\u001b[K     |████████████████████████████████| 1.2 MB 46.4 MB/s eta 0:00:01\n",
      "\u001b[?25hRequirement already satisfied: wcwidth in /Users/macbookpro/opt/anaconda3/envs/elasticsearch/lib/python3.6/site-packages (from ftfy->clip==1.0) (0.2.5)\n",
      "Requirement already satisfied: typing-extensions in /Users/macbookpro/opt/anaconda3/envs/elasticsearch/lib/python3.6/site-packages (from torch->clip==1.0) (3.7.4.2)\n",
      "Collecting dataclasses; python_version < \"3.7\"\n",
      "  Using cached dataclasses-0.8-py3-none-any.whl (19 kB)\n",
      "Requirement already satisfied: pillow!=8.3.0,>=5.3.0 in /Users/macbookpro/opt/anaconda3/envs/elasticsearch/lib/python3.6/site-packages (from torchvision->clip==1.0) (7.2.0)\n",
      "Requirement already satisfied: numpy in /Users/macbookpro/opt/anaconda3/envs/elasticsearch/lib/python3.6/site-packages (from torchvision->clip==1.0) (1.17.0)\n",
      "Building wheels for collected packages: clip\n",
      "  Building wheel for clip (setup.py) ... \u001b[?25ldone\n",
      "\u001b[?25h  Created wheel for clip: filename=clip-1.0-py3-none-any.whl size=1369396 sha256=9e420abd907829293e0d5fd7724ce81092d986caceb9d9fe3867202471a9c5b5\n",
      "  Stored in directory: /private/var/folders/9z/vxzd5t7x2vn4503l8w3td5pm0000gn/T/pip-ephem-wheel-cache-ut1me6gg/wheels/41/36/e0/af6191bd08c254b17d779b05de8282c9ea81ef7048abbe290b\n",
      "Successfully built clip\n",
      "Installing collected packages: dataclasses, torch, torchvision, clip\n",
      "Successfully installed clip-1.0 dataclasses-0.8 torch-1.10.2 torchvision-0.11.3\n",
      "Note: you may need to restart the kernel to use updated packages.\n"
     ]
    }
   ],
   "source": [
    "%pip install ftfy regex tqdm\n",
    "%pip install git+https://github.com/openai/CLIP.git"
   ]
  },
  {
   "cell_type": "code",
   "execution_count": 3,
   "metadata": {},
   "outputs": [
    {
     "name": "stdout",
     "output_type": "stream",
     "text": [
      "Collecting transformers==4.18.0\n",
      "  Using cached transformers-4.18.0-py3-none-any.whl (4.0 MB)\n",
      "Requirement already satisfied, skipping upgrade: packaging>=20.0 in /Users/macbookpro/opt/anaconda3/envs/elasticsearch/lib/python3.6/site-packages (from transformers==4.18.0) (20.4)\n",
      "Requirement already satisfied, skipping upgrade: importlib-metadata; python_version < \"3.8\" in /Users/macbookpro/opt/anaconda3/envs/elasticsearch/lib/python3.6/site-packages (from transformers==4.18.0) (1.7.0)\n",
      "Requirement already satisfied, skipping upgrade: numpy>=1.17 in /Users/macbookpro/opt/anaconda3/envs/elasticsearch/lib/python3.6/site-packages (from transformers==4.18.0) (1.17.0)\n",
      "Requirement already satisfied, skipping upgrade: tqdm>=4.27 in /Users/macbookpro/opt/anaconda3/envs/elasticsearch/lib/python3.6/site-packages (from transformers==4.18.0) (4.47.0)\n",
      "Requirement already satisfied, skipping upgrade: regex!=2019.12.17 in /Users/macbookpro/opt/anaconda3/envs/elasticsearch/lib/python3.6/site-packages (from transformers==4.18.0) (2020.6.8)\n",
      "Requirement already satisfied, skipping upgrade: filelock in /Users/macbookpro/opt/anaconda3/envs/elasticsearch/lib/python3.6/site-packages (from transformers==4.18.0) (3.0.12)\n",
      "Processing /Users/macbookpro/Library/Caches/pip/wheels/4c/64/31/e9900a234b23fb3e9dc565d6114a9d6ff84a72dbdd356502b4/sacremoses-0.0.53-py3-none-any.whl\n",
      "Requirement already satisfied, skipping upgrade: dataclasses; python_version < \"3.7\" in /Users/macbookpro/opt/anaconda3/envs/elasticsearch/lib/python3.6/site-packages (from transformers==4.18.0) (0.8)\n",
      "Requirement already satisfied, skipping upgrade: pyyaml>=5.1 in /Users/macbookpro/opt/anaconda3/envs/elasticsearch/lib/python3.6/site-packages (from transformers==4.18.0) (5.3.1)\n",
      "Requirement already satisfied, skipping upgrade: requests in /Users/macbookpro/opt/anaconda3/envs/elasticsearch/lib/python3.6/site-packages (from transformers==4.18.0) (2.24.0)\n",
      "Collecting huggingface-hub<1.0,>=0.1.0\n",
      "  Using cached huggingface_hub-0.4.0-py3-none-any.whl (67 kB)\n",
      "Collecting tokenizers!=0.11.3,<0.13,>=0.11.1\n",
      "  Using cached tokenizers-0.12.1.tar.gz (220 kB)\n",
      "  Installing build dependencies ... \u001b[?25ldone\n",
      "\u001b[?25h  Getting requirements to build wheel ... \u001b[?25ldone\n",
      "\u001b[?25h    Preparing wheel metadata ... \u001b[?25ldone\n",
      "\u001b[?25hRequirement already satisfied, skipping upgrade: six in /Users/macbookpro/opt/anaconda3/envs/elasticsearch/lib/python3.6/site-packages (from packaging>=20.0->transformers==4.18.0) (1.15.0)\n",
      "Requirement already satisfied, skipping upgrade: pyparsing>=2.0.2 in /Users/macbookpro/opt/anaconda3/envs/elasticsearch/lib/python3.6/site-packages (from packaging>=20.0->transformers==4.18.0) (2.4.7)\n",
      "Requirement already satisfied, skipping upgrade: zipp>=0.5 in /Users/macbookpro/opt/anaconda3/envs/elasticsearch/lib/python3.6/site-packages (from importlib-metadata; python_version < \"3.8\"->transformers==4.18.0) (3.1.0)\n",
      "Requirement already satisfied, skipping upgrade: click in /Users/macbookpro/opt/anaconda3/envs/elasticsearch/lib/python3.6/site-packages (from sacremoses->transformers==4.18.0) (7.1.2)\n",
      "Requirement already satisfied, skipping upgrade: joblib in /Users/macbookpro/opt/anaconda3/envs/elasticsearch/lib/python3.6/site-packages (from sacremoses->transformers==4.18.0) (0.16.0)\n",
      "Requirement already satisfied, skipping upgrade: urllib3!=1.25.0,!=1.25.1,<1.26,>=1.21.1 in /Users/macbookpro/opt/anaconda3/envs/elasticsearch/lib/python3.6/site-packages (from requests->transformers==4.18.0) (1.25.9)\n",
      "Requirement already satisfied, skipping upgrade: chardet<4,>=3.0.2 in /Users/macbookpro/opt/anaconda3/envs/elasticsearch/lib/python3.6/site-packages (from requests->transformers==4.18.0) (3.0.4)\n",
      "Requirement already satisfied, skipping upgrade: idna<3,>=2.5 in /Users/macbookpro/opt/anaconda3/envs/elasticsearch/lib/python3.6/site-packages (from requests->transformers==4.18.0) (2.10)\n",
      "Requirement already satisfied, skipping upgrade: certifi>=2017.4.17 in /Users/macbookpro/opt/anaconda3/envs/elasticsearch/lib/python3.6/site-packages (from requests->transformers==4.18.0) (2020.6.20)\n",
      "Collecting typing-extensions>=3.7.4.3\n",
      "  Using cached typing_extensions-4.1.1-py3-none-any.whl (26 kB)\n",
      "Building wheels for collected packages: tokenizers\n",
      "  Building wheel for tokenizers (PEP 517) ... \u001b[?25ldone\n",
      "\u001b[?25h  Created wheel for tokenizers: filename=tokenizers-0.12.1-cp36-cp36m-macosx_11_0_x86_64.whl size=3850303 sha256=3c7c3cd9999c1deb8484baf63abcc1d6f143f837a9f60d005706bb26d619024d\n",
      "  Stored in directory: /Users/macbookpro/Library/Caches/pip/wheels/50/88/0c/822047300a082f4957028642240e5bbad87b9993a1009e71c4\n",
      "Successfully built tokenizers\n",
      "\u001b[31mERROR: huggingface-hub 0.4.0 has requirement packaging>=20.9, but you'll have packaging 20.4 which is incompatible.\u001b[0m\n",
      "Installing collected packages: sacremoses, typing-extensions, huggingface-hub, tokenizers, transformers\n",
      "  Attempting uninstall: typing-extensions\n",
      "    Found existing installation: typing-extensions 3.7.4.2\n",
      "    Uninstalling typing-extensions-3.7.4.2:\n",
      "      Successfully uninstalled typing-extensions-3.7.4.2\n",
      "Successfully installed huggingface-hub-0.4.0 sacremoses-0.0.53 tokenizers-0.12.1 transformers-4.18.0 typing-extensions-4.1.1\n",
      "Note: you may need to restart the kernel to use updated packages.\n"
     ]
    }
   ],
   "source": [
    "%pip install --upgrade transformers==4.18.0"
   ]
  },
  {
   "cell_type": "markdown",
   "metadata": {},
   "source": [
    "# Download Images"
   ]
  },
  {
   "cell_type": "code",
   "execution_count": 1,
   "metadata": {},
   "outputs": [
    {
     "name": "stdout",
     "output_type": "stream",
     "text": [
      "['https://farm66.staticflickr.com/65535/52763118772_a278de994f.jpg', 'https://farm66.staticflickr.com/65535/52764120453_7611d726d5.jpg', 'https://farm66.staticflickr.com/65535/52763884714_8b515352cb.jpg', 'https://farm66.staticflickr.com/65535/52763884474_67ec45c003.jpg', 'https://farm66.staticflickr.com/65535/52764122743_652d3e742b.jpg', 'https://farm66.staticflickr.com/65535/52763091562_1ff6ecf9fb.jpg', 'https://farm66.staticflickr.com/65535/52763883854_fb486af716.jpg', 'https://farm66.staticflickr.com/65535/52763883764_b867c17119.jpg', 'https://farm66.staticflickr.com/65535/52764122073_e21257da34.jpg', 'https://farm66.staticflickr.com/65535/52762366332_40e502a512.jpg', 'https://farm66.staticflickr.com/65535/52762860203_05af4617d4.jpg', 'https://farm66.staticflickr.com/65535/52762817683_aaf49d5bf4.jpg', 'https://farm66.staticflickr.com/65535/52762356634_3412c5775c.jpg', 'https://farm66.staticflickr.com/65535/52762498660_e6586bb13c.jpg', 'https://farm66.staticflickr.com/65535/52760961132_03161f9e2b.jpg', 'https://farm66.staticflickr.com/65535/52761836985_345e650b6e.jpg', 'https://farm66.staticflickr.com/65535/52761721320_148962f724.jpg', 'https://farm66.staticflickr.com/65535/52761275436_cb2498053c.jpg', 'https://farm66.staticflickr.com/65535/52761680675_dfcd1fa817.jpg', 'https://farm66.staticflickr.com/65535/52761679545_ea4c5ece68.jpg', 'https://farm66.staticflickr.com/65535/52761764298_c5f6bf3d4b.jpg', 'https://farm66.staticflickr.com/65535/52761398819_9dec707aa4.jpg', 'https://farm66.staticflickr.com/65535/52761397979_1528160dd5.jpg', 'https://farm66.staticflickr.com/65535/52760551397_4612aba365.jpg', 'https://farm66.staticflickr.com/65535/52761460100_95ea5fe954.jpg', 'https://farm66.staticflickr.com/65535/52761289464_6c09a1743f.jpg', 'https://farm66.staticflickr.com/65535/52760610229_2c999f53da.jpg', 'https://farm66.staticflickr.com/65535/52760609564_1d9168c173.jpg', 'https://farm66.staticflickr.com/65535/52760614870_5739f4b965.jpg', 'https://farm66.staticflickr.com/65535/52760408309_8bccd2cf95.jpg', 'https://farm66.staticflickr.com/65535/52760564660_9b70a77046.jpg', 'https://farm66.staticflickr.com/65535/52760099766_5a0834c89c.jpg', 'https://farm66.staticflickr.com/65535/52759557347_b0f3edfb52.jpg', 'https://farm66.staticflickr.com/65535/52760429655_fb4cc2955e.jpg', 'https://farm66.staticflickr.com/65535/49845418012_7bf86b4554.jpg', 'https://farm66.staticflickr.com/65535/49845417722_aff2db9126.jpg', 'https://farm66.staticflickr.com/65535/52760088805_320d96291e.jpg', 'https://farm66.staticflickr.com/65535/52758799342_02eed9cc6c.jpg', 'https://farm66.staticflickr.com/65535/52758799237_144d055be5.jpg', 'https://farm66.staticflickr.com/65535/52759668850_af2555f9e5.jpg', 'https://farm66.staticflickr.com/65535/52758714602_2d31a9b03a.jpg', 'https://farm66.staticflickr.com/65535/52759444949_3bc87c5a2e.jpg', 'https://farm66.staticflickr.com/65535/52759682503_0cf110540b.jpg', 'https://farm66.staticflickr.com/65535/52759632188_30404051f7.jpg', 'https://farm66.staticflickr.com/65535/52759575668_dc339d0a92.jpg', 'https://farm66.staticflickr.com/65535/52759236340_32e15b4b5d.jpg', 'https://farm66.staticflickr.com/65535/52759037329_3c2bf30866.jpg', 'https://farm66.staticflickr.com/65535/52758789326_9b6b618f2f.jpg', 'https://farm66.staticflickr.com/65535/52758218742_890beb2357.jpg', 'https://farm66.staticflickr.com/65535/52759014580_132cb86327.jpg', 'https://farm66.staticflickr.com/65535/52758946850_8c06024f1a.jpg', 'https://farm66.staticflickr.com/65535/52758685229_41ea14d00f.jpg', 'https://farm66.staticflickr.com/65535/52757875227_a697cf0845.jpg', 'https://farm66.staticflickr.com/65535/52758860298_4dc7e73568.jpg', 'https://farm66.staticflickr.com/65535/52757797717_e39223858f.jpg', 'https://farm66.staticflickr.com/65535/52758707198_87360854b5.jpg', 'https://farm66.staticflickr.com/65535/52758470459_1d97c2bdcf.jpg', 'https://farm66.staticflickr.com/65535/52757818499_c16c87676f.jpg', 'https://farm66.staticflickr.com/65535/52756896982_27bd7ac975.jpg', 'https://farm66.staticflickr.com/65535/52757345361_2dcae28864.jpg', 'https://farm66.staticflickr.com/65535/52757299666_7173abba3e.jpg', 'https://farm66.staticflickr.com/65535/52757222971_7449fce9bb.jpg', 'https://farm66.staticflickr.com/65535/52757636333_b00d767121.jpg', 'https://farm5.staticflickr.com/4636/38713528184_d295327e32.jpg', 'https://farm5.staticflickr.com/4591/38713521364_b1b126b9b5.jpg', 'https://farm66.staticflickr.com/65535/52757211044_8319269c9d.jpg', 'https://farm66.staticflickr.com/65535/52757191169_11c4884f9a.jpg', 'https://farm66.staticflickr.com/65535/52757286560_3633bb646a.jpg', 'https://farm66.staticflickr.com/65535/52757067219_4950b6bd0d.jpg', 'https://farm66.staticflickr.com/65535/52757011280_7614a8ba4b.jpg', 'https://farm66.staticflickr.com/65535/52756522471_8380ee2f3e.jpg', 'https://farm66.staticflickr.com/65535/52697531911_f97787b745.jpg', 'https://farm66.staticflickr.com/65535/52756567234_3df6a6341d.jpg', 'https://farm66.staticflickr.com/65535/52756588330_71373b6e9f.jpg', 'https://farm66.staticflickr.com/65535/52755471662_586ebcfe7e.jpg', 'https://farm66.staticflickr.com/65535/52755349328_809f711d3c.jpg', 'https://farm66.staticflickr.com/65535/52755949271_1172931f55.jpg', 'https://farm66.staticflickr.com/65535/52755235952_fd01180dfd.jpg', 'https://farm66.staticflickr.com/65535/52755047852_72d673125b.jpg', 'https://farm66.staticflickr.com/65535/52755729119_056f497550.jpg', 'https://farm66.staticflickr.com/65535/52755412301_0ce7c29808.jpg', 'https://farm66.staticflickr.com/65535/52755686133_0942e471b3.jpg', 'https://farm66.staticflickr.com/65535/52754667402_b87ebf2ee9.jpg', 'https://farm66.staticflickr.com/65535/52755495385_3545278a1f.jpg', 'https://farm66.staticflickr.com/65535/52755545898_b65f7c46d0.jpg', 'https://farm66.staticflickr.com/65535/52755236609_4556988065.jpg', 'https://farm66.staticflickr.com/65535/52755203988_00d1c31db2.jpg', 'https://farm66.staticflickr.com/65535/52755121055_e6d6be38e8.jpg', 'https://farm66.staticflickr.com/65535/52754715071_14642262ec.jpg', 'https://farm66.staticflickr.com/65535/52754958374_7436e8117f.jpg', 'https://farm66.staticflickr.com/65535/52754713126_ed4fc023b5.jpg', 'https://farm66.staticflickr.com/65535/52754171887_27faf6c4f8.jpg', 'https://farm66.staticflickr.com/65535/52755199158_28768a0ba0.jpg', 'https://farm66.staticflickr.com/65535/52754169297_f8c8d5f4fa.jpg', 'https://farm66.staticflickr.com/65535/52755115415_c32b885e87.jpg', 'https://farm66.staticflickr.com/65535/52755198083_1bfd49c402.jpg', 'https://farm66.staticflickr.com/65535/52755115200_f91ed9d805.jpg', 'https://farm66.staticflickr.com/65535/52754951974_270052e184.jpg', 'https://farm66.staticflickr.com/65535/52755196293_9e19858165.jpg', 'https://farm66.staticflickr.com/65535/52755171193_23b4f01a14.jpg']\n"
     ]
    }
   ],
   "source": [
    "from PIL import Image\n",
    "import flickrapi\n",
    "import requests\n",
    "\n",
    "# Replace with your own API key and secret\n",
    "api_key = '937c5fb63a6d88a2a148aec387c14272'\n",
    "api_secret = 'b21c82310caf7c0f'\n",
    "\n",
    "# Initialize the Flickr API client\n",
    "flickr = flickrapi.FlickrAPI(api_key, api_secret, format='parsed-json')\n",
    "\n",
    "# Use the 'flickr.photos.search' method to search for photos\n",
    "Here, we're searching for photos tagged with 'cat'\n",
    "result = flickr.photos.search(tags='fashion')\n",
    "\n",
    "# Extract the URLs of the photos\n",
    "photo_urls = []\n",
    "for photo in result['photos']['photo']:\n",
    "    url = f\"https://farm{photo['farm']}.staticflickr.com/{photo['server']}/{photo['id']}_{photo['secret']}.jpg\"\n",
    "    photo_urls.append(url)\n",
    "\n",
    "# Print the list of URLs\n",
    "print(photo_urls)"
   ]
  },
  {
   "cell_type": "code",
   "execution_count": 3,
   "metadata": {},
   "outputs": [
    {
     "ename": "NameError",
     "evalue": "name 'photo_urls' is not defined",
     "output_type": "error",
     "traceback": [
      "\u001b[0;31m---------------------------------------------------------------------------\u001b[0m",
      "\u001b[0;31mNameError\u001b[0m                                 Traceback (most recent call last)",
      "\u001b[0;32m<ipython-input-3-0014ea9e1125>\u001b[0m in \u001b[0;36m<module>\u001b[0;34m\u001b[0m\n\u001b[1;32m      2\u001b[0m \u001b[0murls\u001b[0m \u001b[0;34m=\u001b[0m \u001b[0;34m[\u001b[0m\u001b[0;34m]\u001b[0m\u001b[0;34m\u001b[0m\u001b[0;34m\u001b[0m\u001b[0m\n\u001b[1;32m      3\u001b[0m \u001b[0;34m\u001b[0m\u001b[0m\n\u001b[0;32m----> 4\u001b[0;31m \u001b[0;32mfor\u001b[0m \u001b[0murl\u001b[0m \u001b[0;32min\u001b[0m \u001b[0mphoto_urls\u001b[0m\u001b[0;34m:\u001b[0m\u001b[0;34m\u001b[0m\u001b[0;34m\u001b[0m\u001b[0m\n\u001b[0m\u001b[1;32m      5\u001b[0m   \u001b[0;32mtry\u001b[0m\u001b[0;34m:\u001b[0m\u001b[0;34m\u001b[0m\u001b[0;34m\u001b[0m\u001b[0m\n\u001b[1;32m      6\u001b[0m     \u001b[0mimages\u001b[0m\u001b[0;34m.\u001b[0m\u001b[0mappend\u001b[0m\u001b[0;34m(\u001b[0m\u001b[0mImage\u001b[0m\u001b[0;34m.\u001b[0m\u001b[0mopen\u001b[0m\u001b[0;34m(\u001b[0m\u001b[0mrequests\u001b[0m\u001b[0;34m.\u001b[0m\u001b[0mget\u001b[0m\u001b[0;34m(\u001b[0m\u001b[0murl\u001b[0m\u001b[0;34m,\u001b[0m \u001b[0mstream\u001b[0m\u001b[0;34m=\u001b[0m\u001b[0;32mTrue\u001b[0m\u001b[0;34m)\u001b[0m\u001b[0;34m.\u001b[0m\u001b[0mraw\u001b[0m\u001b[0;34m)\u001b[0m\u001b[0;34m)\u001b[0m\u001b[0;34m\u001b[0m\u001b[0;34m\u001b[0m\u001b[0m\n",
      "\u001b[0;31mNameError\u001b[0m: name 'photo_urls' is not defined"
     ]
    }
   ],
   "source": [
    "images = []\n",
    "urls = []\n",
    "\n",
    "for url in photo_urls:\n",
    "#   try:\n",
    "    images.append(Image.open(requests.get(url, stream=True).raw))\n",
    "    urls.append(url)\n",
    "  except:\n",
    "    # print(f'{url} does not exist')\n",
    "    pass"
   ]
  },
  {
   "cell_type": "code",
   "execution_count": 9,
   "metadata": {},
   "outputs": [],
   "source": [
    "import torch\n",
    "import clip\n",
    "from PIL import Image\n",
    "import requests\n",
    "from io import BytesIO\n",
    "import numpy as np\n",
    "from transformers import CLIPProcessor, CLIPModel\n",
    "\n",
    "# Get model\n",
    "device = \"cuda\" if torch.cuda.is_available() else \"cpu\"\n",
    "model, preprocess = clip.load(\"ViT-B/32\", device=device)\n",
    "\n",
    "# # Download the images and preprocess them\n",
    "# images = []\n",
    "# for url in urls:\n",
    "#     response = requests.get(url)\n",
    "#     img = Image.open(BytesIO(response.content))\n",
    "#     img = preprocess(img)\n",
    "#     images.append(img)\n",
    "\n",
    "# # Stack the preprocessed images into a batch\n",
    "# batch = torch.stack(images)\n",
    "\n",
    "# text = clip.tokenize([\"a diagram\", \"a dog\", \"a cat\"]).to(device)\n",
    "\n",
    "# with torch.no_grad():\n",
    "#     image_features = model.encode_image(batch)\n",
    "#     text_features = model.encode_text(text)\n",
    "    \n",
    "#     # Print the shape of the embeddings tensor\n",
    "#     print(image_features.shape)\n",
    "\n",
    "#     logits_per_image, logits_per_text = model(batch, text)\n",
    "#     probs = logits_per_image.softmax(dim=-1).cpu().numpy()"
   ]
  },
  {
   "cell_type": "code",
   "execution_count": 1,
   "metadata": {},
   "outputs": [
    {
     "data": {
      "text/plain": [
       "'4.18.0'"
      ]
     },
     "execution_count": 1,
     "metadata": {},
     "output_type": "execute_result"
    }
   ],
   "source": [
    "import transformers\n",
    "\n",
    "transformers.__version__"
   ]
  },
  {
   "cell_type": "code",
   "execution_count": 3,
   "metadata": {},
   "outputs": [
    {
     "ename": "NameError",
     "evalue": "name 'urls' is not defined",
     "output_type": "error",
     "traceback": [
      "\u001b[0;31m---------------------------------------------------------------------------\u001b[0m",
      "\u001b[0;31mNameError\u001b[0m                                 Traceback (most recent call last)",
      "\u001b[0;32m<ipython-input-3-988f44421a6c>\u001b[0m in \u001b[0;36m<module>\u001b[0;34m\u001b[0m\n\u001b[0;32m----> 1\u001b[0;31m \u001b[0mlen\u001b[0m\u001b[0;34m(\u001b[0m\u001b[0murls\u001b[0m\u001b[0;34m)\u001b[0m\u001b[0;34m,\u001b[0m \u001b[0mlen\u001b[0m\u001b[0;34m(\u001b[0m\u001b[0mimages\u001b[0m\u001b[0;34m)\u001b[0m\u001b[0;34m\u001b[0m\u001b[0;34m\u001b[0m\u001b[0m\n\u001b[0m",
      "\u001b[0;31mNameError\u001b[0m: name 'urls' is not defined"
     ]
    }
   ],
   "source": [
    "len(urls), len(images)"
   ]
  },
  {
   "cell_type": "markdown",
   "metadata": {},
   "source": [
    "# Elasticsearch"
   ]
  },
  {
   "cell_type": "code",
   "execution_count": 2,
   "metadata": {},
   "outputs": [],
   "source": [
    "%%capture\n",
    "\n",
    "%pip install --upgrade elasticsearch==7.8.1\n",
    "%apt install default-jdk > /dev/null"
   ]
  },
  {
   "cell_type": "code",
   "execution_count": 3,
   "metadata": {},
   "outputs": [],
   "source": [
    "try:\n",
    "  import os\n",
    "  import elasticsearch\n",
    "  from elasticsearch import Elasticsearch\n",
    "  import numpy as np\n",
    "  import pandas as pd\n",
    "  import sys\n",
    "  import json\n",
    "  from ast import literal_eval\n",
    "  from tqdm import tqdm \n",
    "  import datetime\n",
    "  from elasticsearch import helpers\n",
    "  \n",
    "except Exception as e:\n",
    "  print(f\"error: {e}\")"
   ]
  },
  {
   "cell_type": "code",
   "execution_count": 7,
   "metadata": {},
   "outputs": [],
   "source": [
    "# # Download & extract Elasticsearch 7.0.0\n",
    "\n",
    "# !wget https://artifacts.elastic.co/downloads/elasticsearch/elasticsearch-7.8.1-linux-x86_64.tar.gz -q\n",
    "# !tar -xzf elasticsearch-7.8.1-linux-x86_64.tar.gz\n",
    "# !chown -R daemon:daemon elasticsearch-7.8.1"
   ]
  },
  {
   "cell_type": "code",
   "execution_count": 9,
   "metadata": {},
   "outputs": [],
   "source": [
    "# import os\n",
    "# from subprocess import Popen, PIPE, STDOUT\n",
    "\n",
    "# es_server = Popen(['elasticsearch-7.8.1/bin/elasticsearch'], \n",
    "#                   stdout=PIPE, stderr=STDOUT)"
   ]
  },
  {
   "cell_type": "code",
   "execution_count": 4,
   "metadata": {},
   "outputs": [],
   "source": [
    "# This part is important, since it takes a little amount of time for instance to load\n",
    "import time\n",
    "time.sleep(20)"
   ]
  },
  {
   "cell_type": "code",
   "execution_count": 9,
   "metadata": {},
   "outputs": [],
   "source": [
    "# %%bash\n",
    "# # If you get 1 root & 2 daemon process then Elasticsearch instance has started successfully\n",
    "# ps -ef | grep elasticsearch"
   ]
  },
  {
   "cell_type": "code",
   "execution_count": 10,
   "metadata": {},
   "outputs": [],
   "source": [
    "# !sudo apt-get update && sudo apt-get install ufw\n",
    "# !sudo ufw disable"
   ]
  },
  {
   "cell_type": "code",
   "execution_count": 5,
   "metadata": {},
   "outputs": [
    {
     "data": {
      "text/plain": [
       "True"
      ]
     },
     "execution_count": 5,
     "metadata": {},
     "output_type": "execute_result"
    }
   ],
   "source": [
    "es = Elasticsearch(hosts = [{\"host\":\"localhost\", \"port\":9200}])\n",
    "# Check if python is connected to elasticsearch\n",
    "es.ping()"
   ]
  },
  {
   "cell_type": "markdown",
   "metadata": {},
   "source": [
    "# CLIP Image Search"
   ]
  },
  {
   "cell_type": "code",
   "execution_count": 6,
   "metadata": {},
   "outputs": [],
   "source": [
    "INDEX_NAME = 'clip-fashion'\n",
    "VECTOR_DIMS = 512"
   ]
  },
  {
   "cell_type": "code",
   "execution_count": 16,
   "metadata": {},
   "outputs": [],
   "source": [
    "# Delete index\n",
    "if es.indices.exists(index=INDEX_NAME):\n",
    "  print(\"Index exists!\")\n",
    "  es.indices.delete(index=INDEX_NAME, ignore=400)"
   ]
  },
  {
   "cell_type": "code",
   "execution_count": 17,
   "metadata": {},
   "outputs": [
    {
     "data": {
      "text/plain": [
       "{'acknowledged': True, 'shards_acknowledged': True, 'index': 'clip-fashion'}"
      ]
     },
     "execution_count": 17,
     "metadata": {},
     "output_type": "execute_result"
    }
   ],
   "source": [
    "# Create index\n",
    "settings = {\"settings\": {\"number_of_shards\": 2,\"number_of_replicas\": 1},\n",
    "            \"mappings\": {\"dynamic\": \"true\", \n",
    "                          \"_source\": {\"enabled\": \"true\"},\n",
    "                          \"properties\": {\"Image_name\": {\"type\": \"text\"},\n",
    "                                        \"Image_vector\": {\"type\": \"dense_vector\", \"dims\": VECTOR_DIMS}\n",
    "                                        }\n",
    "                        }\n",
    "            }\n",
    "\n",
    "\n",
    "es.indices.create(index=INDEX_NAME, ignore=400, body=settings)"
   ]
  },
  {
   "cell_type": "code",
   "execution_count": 7,
   "metadata": {},
   "outputs": [
    {
     "name": "stdout",
     "output_type": "stream",
     "text": [
      "dict_keys(['clip-fashion', 'clip-fashion2', 'patents-bert'])\n"
     ]
    }
   ],
   "source": [
    "# Retrieve the list of index names\n",
    "index_names = es.indices.get_alias(\"*\").keys()\n",
    "\n",
    "# Print the list of index names\n",
    "print(index_names)"
   ]
  },
  {
   "cell_type": "code",
   "execution_count": 19,
   "metadata": {},
   "outputs": [
    {
     "name": "stdout",
     "output_type": "stream",
     "text": [
      "https://farm66.staticflickr.com/65535/52763118772_a278de994f.jpg\n",
      "https://farm66.staticflickr.com/65535/52764120453_7611d726d5.jpg\n",
      "https://farm66.staticflickr.com/65535/52763884714_8b515352cb.jpg\n",
      "https://farm66.staticflickr.com/65535/52763884474_67ec45c003.jpg\n",
      "https://farm66.staticflickr.com/65535/52764122743_652d3e742b.jpg\n",
      "https://farm66.staticflickr.com/65535/52763091562_1ff6ecf9fb.jpg\n",
      "https://farm66.staticflickr.com/65535/52763883854_fb486af716.jpg\n",
      "https://farm66.staticflickr.com/65535/52763883764_b867c17119.jpg\n",
      "https://farm66.staticflickr.com/65535/52764122073_e21257da34.jpg\n",
      "https://farm66.staticflickr.com/65535/52762366332_40e502a512.jpg\n",
      "https://farm66.staticflickr.com/65535/52762860203_05af4617d4.jpg\n",
      "https://farm66.staticflickr.com/65535/52762817683_aaf49d5bf4.jpg\n",
      "https://farm66.staticflickr.com/65535/52762356634_3412c5775c.jpg\n",
      "https://farm66.staticflickr.com/65535/52762498660_e6586bb13c.jpg\n",
      "https://farm66.staticflickr.com/65535/52760961132_03161f9e2b.jpg\n",
      "https://farm66.staticflickr.com/65535/52761836985_345e650b6e.jpg\n",
      "https://farm66.staticflickr.com/65535/52761721320_148962f724.jpg\n",
      "https://farm66.staticflickr.com/65535/52761275436_cb2498053c.jpg\n",
      "https://farm66.staticflickr.com/65535/52761680675_dfcd1fa817.jpg\n",
      "https://farm66.staticflickr.com/65535/52761679545_ea4c5ece68.jpg\n",
      "https://farm66.staticflickr.com/65535/52761764298_c5f6bf3d4b.jpg\n",
      "https://farm66.staticflickr.com/65535/52761398819_9dec707aa4.jpg\n",
      "https://farm66.staticflickr.com/65535/52761397979_1528160dd5.jpg\n",
      "https://farm66.staticflickr.com/65535/52760551397_4612aba365.jpg\n",
      "https://farm66.staticflickr.com/65535/52761460100_95ea5fe954.jpg\n",
      "https://farm66.staticflickr.com/65535/52761289464_6c09a1743f.jpg\n",
      "https://farm66.staticflickr.com/65535/52760610229_2c999f53da.jpg\n",
      "https://farm66.staticflickr.com/65535/52760609564_1d9168c173.jpg\n",
      "https://farm66.staticflickr.com/65535/52760614870_5739f4b965.jpg\n",
      "https://farm66.staticflickr.com/65535/52760408309_8bccd2cf95.jpg\n",
      "https://farm66.staticflickr.com/65535/52760564660_9b70a77046.jpg\n",
      "https://farm66.staticflickr.com/65535/52760099766_5a0834c89c.jpg\n",
      "https://farm66.staticflickr.com/65535/52759557347_b0f3edfb52.jpg\n",
      "https://farm66.staticflickr.com/65535/52760429655_fb4cc2955e.jpg\n",
      "https://farm66.staticflickr.com/65535/49845418012_7bf86b4554.jpg\n",
      "https://farm66.staticflickr.com/65535/49845417722_aff2db9126.jpg\n",
      "https://farm66.staticflickr.com/65535/52760088805_320d96291e.jpg\n",
      "https://farm66.staticflickr.com/65535/52758799342_02eed9cc6c.jpg\n",
      "https://farm66.staticflickr.com/65535/52758799237_144d055be5.jpg\n",
      "https://farm66.staticflickr.com/65535/52759668850_af2555f9e5.jpg\n",
      "https://farm66.staticflickr.com/65535/52758714602_2d31a9b03a.jpg\n",
      "https://farm66.staticflickr.com/65535/52759444949_3bc87c5a2e.jpg\n",
      "https://farm66.staticflickr.com/65535/52759682503_0cf110540b.jpg\n",
      "https://farm66.staticflickr.com/65535/52759632188_30404051f7.jpg\n",
      "https://farm66.staticflickr.com/65535/52759575668_dc339d0a92.jpg\n",
      "https://farm66.staticflickr.com/65535/52759236340_32e15b4b5d.jpg\n",
      "https://farm66.staticflickr.com/65535/52759037329_3c2bf30866.jpg\n",
      "https://farm66.staticflickr.com/65535/52758789326_9b6b618f2f.jpg\n",
      "https://farm66.staticflickr.com/65535/52758218742_890beb2357.jpg\n",
      "https://farm66.staticflickr.com/65535/52759014580_132cb86327.jpg\n",
      "https://farm66.staticflickr.com/65535/52758946850_8c06024f1a.jpg\n",
      "https://farm66.staticflickr.com/65535/52758685229_41ea14d00f.jpg\n",
      "https://farm66.staticflickr.com/65535/52757875227_a697cf0845.jpg\n",
      "https://farm66.staticflickr.com/65535/52758860298_4dc7e73568.jpg\n",
      "https://farm66.staticflickr.com/65535/52757797717_e39223858f.jpg\n",
      "https://farm66.staticflickr.com/65535/52758707198_87360854b5.jpg\n",
      "https://farm66.staticflickr.com/65535/52758470459_1d97c2bdcf.jpg\n",
      "https://farm66.staticflickr.com/65535/52757818499_c16c87676f.jpg\n",
      "https://farm66.staticflickr.com/65535/52756896982_27bd7ac975.jpg\n",
      "https://farm66.staticflickr.com/65535/52757345361_2dcae28864.jpg\n",
      "https://farm66.staticflickr.com/65535/52757299666_7173abba3e.jpg\n",
      "https://farm66.staticflickr.com/65535/52757222971_7449fce9bb.jpg\n",
      "https://farm66.staticflickr.com/65535/52757636333_b00d767121.jpg\n",
      "https://farm5.staticflickr.com/4636/38713528184_d295327e32.jpg\n",
      "https://farm5.staticflickr.com/4591/38713521364_b1b126b9b5.jpg\n",
      "https://farm66.staticflickr.com/65535/52757211044_8319269c9d.jpg\n",
      "https://farm66.staticflickr.com/65535/52757191169_11c4884f9a.jpg\n",
      "https://farm66.staticflickr.com/65535/52757286560_3633bb646a.jpg\n",
      "https://farm66.staticflickr.com/65535/52757067219_4950b6bd0d.jpg\n",
      "https://farm66.staticflickr.com/65535/52757011280_7614a8ba4b.jpg\n",
      "https://farm66.staticflickr.com/65535/52756522471_8380ee2f3e.jpg\n",
      "https://farm66.staticflickr.com/65535/52697531911_f97787b745.jpg\n",
      "https://farm66.staticflickr.com/65535/52756567234_3df6a6341d.jpg\n",
      "https://farm66.staticflickr.com/65535/52756588330_71373b6e9f.jpg\n",
      "https://farm66.staticflickr.com/65535/52755471662_586ebcfe7e.jpg\n",
      "https://farm66.staticflickr.com/65535/52755349328_809f711d3c.jpg\n",
      "https://farm66.staticflickr.com/65535/52755949271_1172931f55.jpg\n",
      "https://farm66.staticflickr.com/65535/52755235952_fd01180dfd.jpg\n",
      "https://farm66.staticflickr.com/65535/52755047852_72d673125b.jpg\n",
      "https://farm66.staticflickr.com/65535/52755729119_056f497550.jpg\n",
      "https://farm66.staticflickr.com/65535/52755412301_0ce7c29808.jpg\n",
      "https://farm66.staticflickr.com/65535/52755686133_0942e471b3.jpg\n",
      "https://farm66.staticflickr.com/65535/52754667402_b87ebf2ee9.jpg\n",
      "https://farm66.staticflickr.com/65535/52755495385_3545278a1f.jpg\n",
      "https://farm66.staticflickr.com/65535/52755545898_b65f7c46d0.jpg\n",
      "https://farm66.staticflickr.com/65535/52755236609_4556988065.jpg\n",
      "https://farm66.staticflickr.com/65535/52755203988_00d1c31db2.jpg\n",
      "https://farm66.staticflickr.com/65535/52755121055_e6d6be38e8.jpg\n",
      "https://farm66.staticflickr.com/65535/52754715071_14642262ec.jpg\n",
      "https://farm66.staticflickr.com/65535/52754958374_7436e8117f.jpg\n",
      "https://farm66.staticflickr.com/65535/52754713126_ed4fc023b5.jpg\n",
      "https://farm66.staticflickr.com/65535/52754171887_27faf6c4f8.jpg\n",
      "https://farm66.staticflickr.com/65535/52755199158_28768a0ba0.jpg\n",
      "https://farm66.staticflickr.com/65535/52754169297_f8c8d5f4fa.jpg\n",
      "https://farm66.staticflickr.com/65535/52755115415_c32b885e87.jpg\n",
      "https://farm66.staticflickr.com/65535/52755198083_1bfd49c402.jpg\n",
      "https://farm66.staticflickr.com/65535/52755115200_f91ed9d805.jpg\n",
      "https://farm66.staticflickr.com/65535/52754951974_270052e184.jpg\n",
      "https://farm66.staticflickr.com/65535/52755196293_9e19858165.jpg\n",
      "https://farm66.staticflickr.com/65535/52755171193_23b4f01a14.jpg\n"
     ]
    }
   ],
   "source": [
    "# Add image vectors to Elasticsearch\n",
    "def add_image_vec(es, url):\n",
    "    image = preprocess(Image.open(requests.get(url, stream=True).raw)).unsqueeze(0).to(device)\n",
    "\n",
    "    with torch.no_grad():\n",
    "        image_vector = model.encode_image(image)\n",
    "\n",
    "    doc = {\n",
    "        \"Image_name\": url,\n",
    "        \"Image_vector\": np.array(image_vector.squeeze().tolist())   # convert tensor to numpy array\n",
    "    }\n",
    "\n",
    "    res = es.index(index=INDEX_NAME, body=doc)\n",
    "\n",
    "# for url in urls:\n",
    "#     print(url)\n",
    "#     add_image_vec(es, url=url)\n",
    "#     time.sleep(1.0)  # Add a delay of 0.5 seconds between requests\n",
    "# gives error\n",
    "\n",
    "# Process image URLs in batches\n",
    "# One approach you can try is to use a Python queue to manage the image URLs and process them in batches, \n",
    "# with a delay between each batch to avoid overwhelming the Elasticsearch cluster\n",
    "# by ChatGPT\n",
    "import queue\n",
    "\n",
    "# Define queue for image URLs\n",
    "url_queue = queue.Queue()\n",
    "\n",
    "# Add image URLs to queue\n",
    "for url in urls:\n",
    "    url_queue.put(url)\n",
    "\n",
    "# Process image URLs in batches\n",
    "batch_size = 5\n",
    "while not url_queue.empty():\n",
    "    # Get batch of image URLs from queue\n",
    "    batch = []\n",
    "    for i in range(batch_size):\n",
    "        if not url_queue.empty():\n",
    "            batch.append(url_queue.get())\n",
    "    \n",
    "    # Process batch of image URLs\n",
    "    for url in batch:\n",
    "        print(url)\n",
    "        add_image_vec(es, url=url)\n",
    "    \n",
    "    # Add a delay between batches\n",
    "    time.sleep(2.0)\n"
   ]
  },
  {
   "cell_type": "code",
   "execution_count": 20,
   "metadata": {},
   "outputs": [
    {
     "data": {
      "text/plain": [
       "tensor([ 5.4698e-02, -6.1112e-03,  4.9542e-02,  1.0636e-02,  1.1072e-01,\n",
       "        -2.5752e-01, -2.1084e-01, -1.3542e+00,  4.3903e-01, -1.3280e-01,\n",
       "         1.2941e-01, -1.9770e-02,  1.9068e-01, -1.4562e-01, -8.1607e-02,\n",
       "        -2.7586e-02,  5.6441e-02,  1.5254e-01,  1.2956e-01,  1.9796e-01,\n",
       "        -7.8956e-02,  1.7999e-02,  2.8578e-01,  9.9760e-02,  5.0179e-02,\n",
       "        -1.1226e-01, -2.4819e-01, -3.3644e-02,  1.1338e-01, -3.1782e-02,\n",
       "         2.3795e-01,  7.5053e-02,  2.6943e-01,  2.9191e-01,  1.4048e-02,\n",
       "         1.0524e-02,  3.7278e-01,  3.4766e-02, -1.1234e-01, -3.8797e-01,\n",
       "         1.0558e-02, -4.2869e-01, -1.5791e-01,  4.0789e-01,  5.4361e-02,\n",
       "        -2.6602e-02,  1.5374e-02,  1.0097e-01, -3.5916e-01,  4.5575e-04,\n",
       "        -5.8397e-02, -1.4731e-01,  1.7992e-01, -2.8529e-02,  1.5288e-01,\n",
       "         4.4362e-02, -7.4311e-02, -2.2342e-01, -3.2362e-02,  2.7916e-01,\n",
       "         1.8030e-01, -5.1917e-01,  2.1120e-01, -1.7324e-01,  1.7030e-01,\n",
       "        -2.8487e-01, -1.2898e-01, -5.8205e-02,  8.8932e-02,  1.1277e-01,\n",
       "        -5.6904e-02,  3.8935e-02, -3.4664e-01,  4.7822e-01, -2.4943e-02,\n",
       "         1.1717e-01,  4.1706e-01, -1.9517e-01,  2.1927e-01, -2.3859e-01,\n",
       "         6.7945e-03, -1.0003e-01, -1.4258e-01,  4.9177e-01, -1.4025e-01,\n",
       "        -7.1360e-02,  3.0528e-01, -8.8031e-02,  3.4192e-01, -6.4637e-02,\n",
       "        -2.7973e-01,  6.2819e-02, -1.6281e+00,  7.0396e-01, -3.3904e-01,\n",
       "         1.2093e-01,  4.0653e-02,  3.1126e-01,  5.0698e-02,  1.0000e-01,\n",
       "         1.6026e-02,  8.5320e-02,  1.0270e-01, -8.2341e-02, -3.4459e-01,\n",
       "        -1.8254e-01, -2.9773e-01,  3.4711e-01, -6.8494e-02,  1.5741e-02,\n",
       "         9.2457e-02,  4.9121e-01, -2.8387e-02, -3.2229e-01, -4.1289e-01,\n",
       "        -5.3854e-01,  3.8406e-01, -5.5728e-04, -8.3838e-02,  3.5172e-01,\n",
       "        -3.4475e-01, -5.3898e-01, -2.2078e-02,  3.6742e-01,  1.8616e-01,\n",
       "        -9.3669e-02, -1.8127e-01, -6.7943e-02, -1.3720e-01,  3.7030e-01,\n",
       "         7.6866e-02,  3.4362e-01, -3.7296e-01,  7.2107e+00,  3.2149e-01,\n",
       "        -3.5739e-02, -2.4040e-01, -3.9839e-01, -2.1059e-01, -1.1630e-01,\n",
       "         9.2129e-02,  2.7618e-01,  1.0830e-02, -5.3091e-02, -1.1605e-01,\n",
       "         5.6439e-02, -1.4685e-01, -2.5459e-01, -1.0001e-01,  1.0470e-01,\n",
       "         2.8734e-01,  5.3285e-02,  1.4074e-01,  3.5765e-01, -4.0472e-02,\n",
       "         1.2308e-01, -3.2358e-01,  9.6103e-02, -1.8502e-01,  3.6785e-01,\n",
       "         8.3266e-03, -3.6885e-02,  1.8460e-02, -1.4125e-01, -8.2084e-02,\n",
       "        -3.0475e-01, -1.0458e-01,  2.4979e-01,  2.6723e-01,  1.9854e-02,\n",
       "         7.9691e-02,  1.8087e-01, -1.2947e-01, -3.4278e-01, -3.2746e-01,\n",
       "        -1.2529e-01, -2.4318e-01, -3.4640e-01,  2.0220e-01,  1.9627e-01,\n",
       "         1.0309e-01,  2.5741e-01, -3.3675e-01,  1.4344e-01, -1.6085e-01,\n",
       "        -5.4362e-02,  1.9869e-01, -3.8011e-03, -1.0776e-01,  2.3721e-02,\n",
       "         2.0525e-02, -1.4785e-01, -3.4927e-02, -1.9284e-01, -2.5810e-01,\n",
       "         1.9894e-02,  1.8647e-01, -7.0243e-02, -1.3179e-01, -1.9194e-02,\n",
       "         2.5711e-01, -1.8112e-01,  1.5012e-01,  6.2028e-02,  2.2134e-01,\n",
       "         1.5854e-02, -4.3244e-02, -1.8043e-01,  1.2202e-01,  1.2494e-01,\n",
       "         4.3440e-03,  2.1845e-01, -1.8908e-02,  1.0907e-01, -2.4297e-01,\n",
       "        -4.0050e-01, -2.0046e-02,  2.6923e-01, -3.1043e-01, -1.5305e-02,\n",
       "        -3.0116e-01,  2.3177e-02,  7.0213e-02, -4.7684e-02,  2.4431e-01,\n",
       "         1.2533e-01, -3.1099e-02,  1.3850e-01, -9.1045e-02, -6.3532e-02,\n",
       "         1.3280e-01,  4.7186e-01,  1.2907e-01, -3.1420e-01,  3.0245e-01,\n",
       "        -8.3075e-02,  1.0588e-02,  1.0154e-02, -5.6988e-02, -3.7995e-02,\n",
       "         1.2159e-01, -3.9839e-02,  1.1423e-01, -2.7644e-01, -3.5829e-01,\n",
       "        -9.9895e-02,  3.3568e-01,  3.1809e-02, -1.5687e-01, -6.1584e-02,\n",
       "        -1.2898e-01,  1.5404e-01,  1.8894e-01,  3.3876e-02,  1.9356e-01,\n",
       "         1.1775e-02,  9.1355e-02, -1.0461e-01, -2.9548e-01,  3.4230e-04,\n",
       "        -3.1371e-01,  2.2000e-01, -3.4141e-03, -2.1112e-02, -3.4323e-01,\n",
       "         1.8779e-02,  7.4378e-02, -3.8329e-01, -3.7408e-02, -8.5431e-02,\n",
       "         7.3382e-02, -8.9937e-02,  9.4398e-02, -1.0278e-02, -2.4267e-01,\n",
       "        -1.1963e-01,  1.3213e-01,  1.4880e-02,  2.4148e-01,  3.0867e-01,\n",
       "        -1.9991e-01,  2.5014e-02, -7.0534e-02, -1.0919e-01, -1.7417e-01,\n",
       "         1.7204e-01, -7.2027e-02, -1.2330e-01,  4.3047e-01, -1.4465e-01,\n",
       "         2.5808e-01, -7.3909e-02, -6.1824e-02,  6.7278e-02, -1.1170e-01,\n",
       "        -2.7102e-01,  8.8946e-02, -1.1601e-01,  1.0798e-01, -4.1325e-02,\n",
       "         2.3931e-01,  3.3933e-01, -7.8130e-02,  4.5152e-01, -1.7697e-01,\n",
       "        -9.3224e-02, -4.0906e-02, -7.2273e-02, -4.0894e-02, -7.8023e-02,\n",
       "        -2.1003e-01, -2.1157e-01,  7.2065e+00,  2.1232e-01, -3.1772e-01,\n",
       "        -9.6648e-02,  1.9710e-01,  2.3141e-01,  3.6077e-01, -3.2790e-02,\n",
       "         3.3650e-01,  4.7202e-01, -8.6556e-02,  4.6666e-01,  8.0685e-02,\n",
       "        -1.0811e-01, -2.0610e-01,  3.2482e-02, -3.6985e-01, -3.0226e+00,\n",
       "         4.6926e-02,  3.9348e-01,  1.3475e-01, -1.2646e-01,  2.3805e-01,\n",
       "        -9.3221e-02,  2.1792e-01, -1.1223e-01,  1.8356e-01,  3.8127e-01,\n",
       "        -1.7078e-01, -5.4500e-02,  3.3667e-01, -3.8011e-03,  2.4183e-01,\n",
       "        -4.3137e-02,  1.0491e-01,  1.0305e-01,  2.6379e-01,  1.8408e-02,\n",
       "         1.9819e-01, -3.1226e-02,  3.0742e-01,  1.7798e-01, -5.6141e-02,\n",
       "         4.1388e-01, -3.3726e-01,  9.8646e-02,  5.2229e-02,  2.9950e-01,\n",
       "        -3.6104e-01, -2.1725e-01, -1.5582e-01, -1.5095e-01, -2.0521e-01,\n",
       "         2.1606e-01,  3.5521e-01,  4.0029e-01,  3.2110e-01, -9.6047e-02,\n",
       "        -4.3786e-01, -1.1302e-01,  1.8102e-01, -8.4808e-02,  5.6925e-02,\n",
       "         5.3954e-02, -3.8164e-01, -1.1742e-01, -8.2418e-01, -2.1620e-01,\n",
       "        -1.3802e-01, -3.2484e-02, -1.7189e-01, -4.1172e-02, -3.7860e-02,\n",
       "         2.6141e-01, -1.0831e-01, -4.7425e-01,  1.4168e-02, -2.2370e-01,\n",
       "         3.5502e-04,  9.0597e-03, -9.3517e-02, -1.1162e-01,  2.8390e-01,\n",
       "         3.3352e-01, -3.3030e-02,  1.6956e-01, -3.5810e-01, -7.3462e-02,\n",
       "         3.2468e-01,  3.7066e-01,  1.0107e-01, -1.2699e-01, -1.1186e-01,\n",
       "        -1.6987e-01,  1.0966e-01,  1.2911e-02,  2.3993e-01,  1.0090e-01,\n",
       "         3.7201e-01, -2.7273e-01,  1.9673e-01,  1.4920e-01,  1.9855e-01,\n",
       "         7.7565e-03,  5.0165e-02, -1.9970e-01, -5.1728e-02,  1.8092e-02,\n",
       "         6.2657e-02, -1.5898e-01,  4.3443e-02, -1.2978e-01,  4.2025e-03,\n",
       "        -2.1785e-01, -3.8643e-01, -3.9323e-03, -2.3197e-01,  2.1274e-01,\n",
       "         1.5004e-01, -1.0467e-01, -7.6165e-02, -1.2877e-02, -1.6438e-01,\n",
       "        -4.0977e-01,  7.1033e-02,  1.9674e-01, -1.3041e-01, -1.3785e-02,\n",
       "        -6.2108e-01,  2.1809e-01, -3.1023e-01, -4.5564e-01, -1.0005e-01,\n",
       "        -3.8000e-02,  8.2807e-03, -4.3732e-01, -1.1228e-01,  1.8737e-01,\n",
       "         2.3211e-01,  9.9115e-03,  9.4614e-02, -5.8088e-02, -3.1335e-02,\n",
       "         2.1187e-01, -1.5252e-01, -4.4130e-02,  2.4823e-01, -2.4175e-02,\n",
       "         1.9580e-04,  1.8669e-01, -3.3016e-02,  4.0210e-02, -1.2446e-01,\n",
       "         4.1350e-02,  1.2285e-01, -1.5650e-01, -2.4663e-01, -4.1376e-02,\n",
       "         2.2726e-01,  2.9839e-01,  2.2969e-01, -9.1283e-02, -8.1442e-02,\n",
       "         8.4407e-02,  6.4733e-02, -2.0860e-01, -1.1016e-01,  3.3459e-01,\n",
       "        -2.5860e-01, -5.7579e-01,  1.0685e-01,  2.5989e-01,  1.3023e-01,\n",
       "         1.3613e-02,  1.3525e-01,  4.5995e-02,  2.5343e-01, -2.0048e-01,\n",
       "        -1.9505e-01, -4.5563e-02,  4.2539e-01,  2.8359e-01,  3.0281e-01,\n",
       "         2.5067e-01,  2.8549e-01,  1.7259e-01,  2.4507e-01,  1.3595e-01,\n",
       "        -3.3133e-01, -2.0057e-01,  2.7956e-01,  2.0316e-01,  2.2484e-02,\n",
       "        -1.6415e-01, -2.0065e-02, -1.9815e-01, -7.3655e-02, -6.6376e-01,\n",
       "        -1.2810e-01, -4.9502e-01], grad_fn=<SelectBackward>)"
      ]
     },
     "execution_count": 20,
     "metadata": {},
     "output_type": "execute_result"
    }
   ],
   "source": [
    "model.encode_text(text)[0]"
   ]
  },
  {
   "cell_type": "code",
   "execution_count": 21,
   "metadata": {},
   "outputs": [],
   "source": [
    "# # search for all documents in my_index\n",
    "# res = es.search(index=INDEX_NAME, body={'query': {'match_all': {}}})\n",
    "\n",
    "# # print the documents\n",
    "# for hit in res['hits']['hits']:\n",
    "#     print(hit['_source'])"
   ]
  },
  {
   "cell_type": "code",
   "execution_count": 10,
   "metadata": {},
   "outputs": [
    {
     "name": "stderr",
     "output_type": "stream",
     "text": [
      "/Users/macbookpro/opt/anaconda3/envs/elasticsearch/lib/python3.6/site-packages/elasticsearch/connection/base.py:177: ElasticsearchDeprecationWarning: The vector functions of the form function(query, doc['field']) are deprecated, and the form function(query, 'field') should be used instead. For example, cosineSimilarity(query, doc['field']) is replaced by cosineSimilarity(query, 'field').\n",
      "  warnings.warn(message, category=ElasticsearchDeprecationWarning)\n"
     ]
    },
    {
     "ename": "RequestError",
     "evalue": "RequestError(400, 'search_phase_execution_exception', 'runtime error')",
     "output_type": "error",
     "traceback": [
      "\u001b[0;31m---------------------------------------------------------------------------\u001b[0m",
      "\u001b[0;31mRequestError\u001b[0m                              Traceback (most recent call last)",
      "\u001b[0;32m<ipython-input-10-0134e772d789>\u001b[0m in \u001b[0;36m<module>\u001b[0;34m\u001b[0m\n\u001b[1;32m     15\u001b[0m \u001b[0;34m\u001b[0m\u001b[0m\n\u001b[1;32m     16\u001b[0m     response = es.search(index=INDEX_NAME,body={\"size\": 10, \"query\": script_query,\n\u001b[0;32m---> 17\u001b[0;31m                                                     \u001b[0;34m\"_source\"\u001b[0m\u001b[0;34m:\u001b[0m \u001b[0;34m{\u001b[0m\u001b[0;34m\"includes\"\u001b[0m\u001b[0;34m:\u001b[0m \u001b[0;34m[\u001b[0m\u001b[0;34m\"Image_name\"\u001b[0m\u001b[0;34m]\u001b[0m\u001b[0;34m}\u001b[0m\u001b[0;34m\u001b[0m\u001b[0;34m\u001b[0m\u001b[0m\n\u001b[0m\u001b[1;32m     18\u001b[0m                                                     }\n\u001b[1;32m     19\u001b[0m                             )\n",
      "\u001b[0;32m~/opt/anaconda3/envs/elasticsearch/lib/python3.6/site-packages/elasticsearch/client/utils.py\u001b[0m in \u001b[0;36m_wrapped\u001b[0;34m(*args, **kwargs)\u001b[0m\n\u001b[1;32m    137\u001b[0m                 \u001b[0;32mif\u001b[0m \u001b[0mp\u001b[0m \u001b[0;32min\u001b[0m \u001b[0mkwargs\u001b[0m\u001b[0;34m:\u001b[0m\u001b[0;34m\u001b[0m\u001b[0;34m\u001b[0m\u001b[0m\n\u001b[1;32m    138\u001b[0m                     \u001b[0mparams\u001b[0m\u001b[0;34m[\u001b[0m\u001b[0mp\u001b[0m\u001b[0;34m]\u001b[0m \u001b[0;34m=\u001b[0m \u001b[0mkwargs\u001b[0m\u001b[0;34m.\u001b[0m\u001b[0mpop\u001b[0m\u001b[0;34m(\u001b[0m\u001b[0mp\u001b[0m\u001b[0;34m)\u001b[0m\u001b[0;34m\u001b[0m\u001b[0;34m\u001b[0m\u001b[0m\n\u001b[0;32m--> 139\u001b[0;31m             \u001b[0;32mreturn\u001b[0m \u001b[0mfunc\u001b[0m\u001b[0;34m(\u001b[0m\u001b[0;34m*\u001b[0m\u001b[0margs\u001b[0m\u001b[0;34m,\u001b[0m \u001b[0mparams\u001b[0m\u001b[0;34m=\u001b[0m\u001b[0mparams\u001b[0m\u001b[0;34m,\u001b[0m \u001b[0mheaders\u001b[0m\u001b[0;34m=\u001b[0m\u001b[0mheaders\u001b[0m\u001b[0;34m,\u001b[0m \u001b[0;34m**\u001b[0m\u001b[0mkwargs\u001b[0m\u001b[0;34m)\u001b[0m\u001b[0;34m\u001b[0m\u001b[0;34m\u001b[0m\u001b[0m\n\u001b[0m\u001b[1;32m    140\u001b[0m \u001b[0;34m\u001b[0m\u001b[0m\n\u001b[1;32m    141\u001b[0m         \u001b[0;32mreturn\u001b[0m \u001b[0m_wrapped\u001b[0m\u001b[0;34m\u001b[0m\u001b[0;34m\u001b[0m\u001b[0m\n",
      "\u001b[0;32m~/opt/anaconda3/envs/elasticsearch/lib/python3.6/site-packages/elasticsearch/client/__init__.py\u001b[0m in \u001b[0;36msearch\u001b[0;34m(self, body, index, doc_type, params, headers)\u001b[0m\n\u001b[1;32m   1482\u001b[0m             \u001b[0mparams\u001b[0m\u001b[0;34m=\u001b[0m\u001b[0mparams\u001b[0m\u001b[0;34m,\u001b[0m\u001b[0;34m\u001b[0m\u001b[0;34m\u001b[0m\u001b[0m\n\u001b[1;32m   1483\u001b[0m             \u001b[0mheaders\u001b[0m\u001b[0;34m=\u001b[0m\u001b[0mheaders\u001b[0m\u001b[0;34m,\u001b[0m\u001b[0;34m\u001b[0m\u001b[0;34m\u001b[0m\u001b[0m\n\u001b[0;32m-> 1484\u001b[0;31m             \u001b[0mbody\u001b[0m\u001b[0;34m=\u001b[0m\u001b[0mbody\u001b[0m\u001b[0;34m,\u001b[0m\u001b[0;34m\u001b[0m\u001b[0;34m\u001b[0m\u001b[0m\n\u001b[0m\u001b[1;32m   1485\u001b[0m         )\n\u001b[1;32m   1486\u001b[0m \u001b[0;34m\u001b[0m\u001b[0m\n",
      "\u001b[0;32m~/opt/anaconda3/envs/elasticsearch/lib/python3.6/site-packages/elasticsearch/transport.py\u001b[0m in \u001b[0;36mperform_request\u001b[0;34m(self, method, url, headers, params, body)\u001b[0m\n\u001b[1;32m    350\u001b[0m                     \u001b[0mheaders\u001b[0m\u001b[0;34m=\u001b[0m\u001b[0mheaders\u001b[0m\u001b[0;34m,\u001b[0m\u001b[0;34m\u001b[0m\u001b[0;34m\u001b[0m\u001b[0m\n\u001b[1;32m    351\u001b[0m                     \u001b[0mignore\u001b[0m\u001b[0;34m=\u001b[0m\u001b[0mignore\u001b[0m\u001b[0;34m,\u001b[0m\u001b[0;34m\u001b[0m\u001b[0;34m\u001b[0m\u001b[0m\n\u001b[0;32m--> 352\u001b[0;31m                     \u001b[0mtimeout\u001b[0m\u001b[0;34m=\u001b[0m\u001b[0mtimeout\u001b[0m\u001b[0;34m,\u001b[0m\u001b[0;34m\u001b[0m\u001b[0;34m\u001b[0m\u001b[0m\n\u001b[0m\u001b[1;32m    353\u001b[0m                 )\n\u001b[1;32m    354\u001b[0m \u001b[0;34m\u001b[0m\u001b[0m\n",
      "\u001b[0;32m~/opt/anaconda3/envs/elasticsearch/lib/python3.6/site-packages/elasticsearch/connection/http_urllib3.py\u001b[0m in \u001b[0;36mperform_request\u001b[0;34m(self, method, url, params, body, timeout, ignore, headers)\u001b[0m\n\u001b[1;32m    254\u001b[0m                 \u001b[0mmethod\u001b[0m\u001b[0;34m,\u001b[0m \u001b[0mfull_url\u001b[0m\u001b[0;34m,\u001b[0m \u001b[0murl\u001b[0m\u001b[0;34m,\u001b[0m \u001b[0morig_body\u001b[0m\u001b[0;34m,\u001b[0m \u001b[0mduration\u001b[0m\u001b[0;34m,\u001b[0m \u001b[0mresponse\u001b[0m\u001b[0;34m.\u001b[0m\u001b[0mstatus\u001b[0m\u001b[0;34m,\u001b[0m \u001b[0mraw_data\u001b[0m\u001b[0;34m\u001b[0m\u001b[0;34m\u001b[0m\u001b[0m\n\u001b[1;32m    255\u001b[0m             )\n\u001b[0;32m--> 256\u001b[0;31m             \u001b[0mself\u001b[0m\u001b[0;34m.\u001b[0m\u001b[0m_raise_error\u001b[0m\u001b[0;34m(\u001b[0m\u001b[0mresponse\u001b[0m\u001b[0;34m.\u001b[0m\u001b[0mstatus\u001b[0m\u001b[0;34m,\u001b[0m \u001b[0mraw_data\u001b[0m\u001b[0;34m)\u001b[0m\u001b[0;34m\u001b[0m\u001b[0;34m\u001b[0m\u001b[0m\n\u001b[0m\u001b[1;32m    257\u001b[0m \u001b[0;34m\u001b[0m\u001b[0m\n\u001b[1;32m    258\u001b[0m         self.log_request_success(\n",
      "\u001b[0;32m~/opt/anaconda3/envs/elasticsearch/lib/python3.6/site-packages/elasticsearch/connection/base.py\u001b[0m in \u001b[0;36m_raise_error\u001b[0;34m(self, status_code, raw_data)\u001b[0m\n\u001b[1;32m    286\u001b[0m \u001b[0;34m\u001b[0m\u001b[0m\n\u001b[1;32m    287\u001b[0m         raise HTTP_EXCEPTIONS.get(status_code, TransportError)(\n\u001b[0;32m--> 288\u001b[0;31m             \u001b[0mstatus_code\u001b[0m\u001b[0;34m,\u001b[0m \u001b[0merror_message\u001b[0m\u001b[0;34m,\u001b[0m \u001b[0madditional_info\u001b[0m\u001b[0;34m\u001b[0m\u001b[0;34m\u001b[0m\u001b[0m\n\u001b[0m\u001b[1;32m    289\u001b[0m         )\n\u001b[1;32m    290\u001b[0m \u001b[0;34m\u001b[0m\u001b[0m\n",
      "\u001b[0;31mRequestError\u001b[0m: RequestError(400, 'search_phase_execution_exception', 'runtime error')"
     ]
    }
   ],
   "source": [
    "# Query a description\n",
    "import pprint\n",
    "\n",
    "text = clip.tokenize(\"a man\").to(device)\n",
    "\n",
    "with torch.no_grad():\n",
    "    User_Query_Vector = model.encode_text(text)\n",
    "\n",
    "    script_query = {\"script_score\": {\"query\": {\"match_all\": {}},\n",
    "                                    \"script\": {\"source\": \"cosineSimilarity(params.query_vector, doc['Image_vector']) \",\n",
    "                                              \"params\": {\"query_vector\": np.array(User_Query_Vector.squeeze().tolist()) }\n",
    "                                              }\n",
    "                                  }\n",
    "                  }\n",
    "\n",
    "    response = es.search(index=INDEX_NAME,body={\"size\": 10, \"query\": script_query,\n",
    "                                                    \"_source\": {\"includes\": [\"Image_name\"]}\n",
    "                                                    }\n",
    "                            )\n",
    "\n",
    "\n",
    "    pprint.pprint(response)"
   ]
  },
  {
   "cell_type": "code",
   "execution_count": 22,
   "metadata": {},
   "outputs": [
    {
     "data": {
      "text/plain": [
       "(7, 8, 1)"
      ]
     },
     "execution_count": 22,
     "metadata": {},
     "output_type": "execute_result"
    }
   ],
   "source": [
    "elasticsearch.__version__"
   ]
  },
  {
   "cell_type": "code",
   "execution_count": 12,
   "metadata": {},
   "outputs": [
    {
     "ename": "RequestError",
     "evalue": "RequestError(400, 'search_phase_execution_exception', 'runtime error')",
     "output_type": "error",
     "traceback": [
      "\u001b[0;31m---------------------------------------------------------------------------\u001b[0m",
      "\u001b[0;31mRequestError\u001b[0m                              Traceback (most recent call last)",
      "\u001b[0;32m<ipython-input-12-92a6c4c52b77>\u001b[0m in \u001b[0;36m<module>\u001b[0;34m\u001b[0m\n\u001b[1;32m      7\u001b[0m     \u001b[0mindex\u001b[0m\u001b[0;34m=\u001b[0m\u001b[0mINDEX_NAME\u001b[0m\u001b[0;34m,\u001b[0m\u001b[0;34m\u001b[0m\u001b[0;34m\u001b[0m\u001b[0m\n\u001b[1;32m      8\u001b[0m     \u001b[0mbody\u001b[0m\u001b[0;34m=\u001b[0m\u001b[0;34m{\u001b[0m\u001b[0;34m\"size\"\u001b[0m\u001b[0;34m:\u001b[0m \u001b[0;36m10\u001b[0m\u001b[0;34m,\u001b[0m \u001b[0;34m\"query\"\u001b[0m\u001b[0;34m:\u001b[0m \u001b[0mscript_query\u001b[0m\u001b[0;34m,\u001b[0m \u001b[0;34m\"_source\"\u001b[0m\u001b[0;34m:\u001b[0m \u001b[0;34m{\u001b[0m\u001b[0;34m\"includes\"\u001b[0m\u001b[0;34m:\u001b[0m \u001b[0;34m[\u001b[0m\u001b[0;34m\"Image_name\"\u001b[0m\u001b[0;34m]\u001b[0m\u001b[0;34m}\u001b[0m\u001b[0;34m}\u001b[0m\u001b[0;34m,\u001b[0m\u001b[0;34m\u001b[0m\u001b[0;34m\u001b[0m\u001b[0m\n\u001b[0;32m----> 9\u001b[0;31m     \u001b[0merror_trace\u001b[0m\u001b[0;34m=\u001b[0m\u001b[0;32mTrue\u001b[0m\u001b[0;34m,\u001b[0m\u001b[0;34m\u001b[0m\u001b[0;34m\u001b[0m\u001b[0m\n\u001b[0m\u001b[1;32m     10\u001b[0m )\n\u001b[1;32m     11\u001b[0m \u001b[0;34m\u001b[0m\u001b[0m\n",
      "\u001b[0;32m~/opt/anaconda3/envs/tf2/lib/python3.6/site-packages/elasticsearch/client/utils.py\u001b[0m in \u001b[0;36m_wrapped\u001b[0;34m(*args, **kwargs)\u001b[0m\n\u001b[1;32m    137\u001b[0m                 \u001b[0;32mif\u001b[0m \u001b[0mp\u001b[0m \u001b[0;32min\u001b[0m \u001b[0mkwargs\u001b[0m\u001b[0;34m:\u001b[0m\u001b[0;34m\u001b[0m\u001b[0;34m\u001b[0m\u001b[0m\n\u001b[1;32m    138\u001b[0m                     \u001b[0mparams\u001b[0m\u001b[0;34m[\u001b[0m\u001b[0mp\u001b[0m\u001b[0;34m]\u001b[0m \u001b[0;34m=\u001b[0m \u001b[0mkwargs\u001b[0m\u001b[0;34m.\u001b[0m\u001b[0mpop\u001b[0m\u001b[0;34m(\u001b[0m\u001b[0mp\u001b[0m\u001b[0;34m)\u001b[0m\u001b[0;34m\u001b[0m\u001b[0;34m\u001b[0m\u001b[0m\n\u001b[0;32m--> 139\u001b[0;31m             \u001b[0;32mreturn\u001b[0m \u001b[0mfunc\u001b[0m\u001b[0;34m(\u001b[0m\u001b[0;34m*\u001b[0m\u001b[0margs\u001b[0m\u001b[0;34m,\u001b[0m \u001b[0mparams\u001b[0m\u001b[0;34m=\u001b[0m\u001b[0mparams\u001b[0m\u001b[0;34m,\u001b[0m \u001b[0mheaders\u001b[0m\u001b[0;34m=\u001b[0m\u001b[0mheaders\u001b[0m\u001b[0;34m,\u001b[0m \u001b[0;34m**\u001b[0m\u001b[0mkwargs\u001b[0m\u001b[0;34m)\u001b[0m\u001b[0;34m\u001b[0m\u001b[0;34m\u001b[0m\u001b[0m\n\u001b[0m\u001b[1;32m    140\u001b[0m \u001b[0;34m\u001b[0m\u001b[0m\n\u001b[1;32m    141\u001b[0m         \u001b[0;32mreturn\u001b[0m \u001b[0m_wrapped\u001b[0m\u001b[0;34m\u001b[0m\u001b[0;34m\u001b[0m\u001b[0m\n",
      "\u001b[0;32m~/opt/anaconda3/envs/tf2/lib/python3.6/site-packages/elasticsearch/client/__init__.py\u001b[0m in \u001b[0;36msearch\u001b[0;34m(self, body, index, doc_type, params, headers)\u001b[0m\n\u001b[1;32m   1482\u001b[0m             \u001b[0mparams\u001b[0m\u001b[0;34m=\u001b[0m\u001b[0mparams\u001b[0m\u001b[0;34m,\u001b[0m\u001b[0;34m\u001b[0m\u001b[0;34m\u001b[0m\u001b[0m\n\u001b[1;32m   1483\u001b[0m             \u001b[0mheaders\u001b[0m\u001b[0;34m=\u001b[0m\u001b[0mheaders\u001b[0m\u001b[0;34m,\u001b[0m\u001b[0;34m\u001b[0m\u001b[0;34m\u001b[0m\u001b[0m\n\u001b[0;32m-> 1484\u001b[0;31m             \u001b[0mbody\u001b[0m\u001b[0;34m=\u001b[0m\u001b[0mbody\u001b[0m\u001b[0;34m,\u001b[0m\u001b[0;34m\u001b[0m\u001b[0;34m\u001b[0m\u001b[0m\n\u001b[0m\u001b[1;32m   1485\u001b[0m         )\n\u001b[1;32m   1486\u001b[0m \u001b[0;34m\u001b[0m\u001b[0m\n",
      "\u001b[0;32m~/opt/anaconda3/envs/tf2/lib/python3.6/site-packages/elasticsearch/transport.py\u001b[0m in \u001b[0;36mperform_request\u001b[0;34m(self, method, url, headers, params, body)\u001b[0m\n\u001b[1;32m    350\u001b[0m                     \u001b[0mheaders\u001b[0m\u001b[0;34m=\u001b[0m\u001b[0mheaders\u001b[0m\u001b[0;34m,\u001b[0m\u001b[0;34m\u001b[0m\u001b[0;34m\u001b[0m\u001b[0m\n\u001b[1;32m    351\u001b[0m                     \u001b[0mignore\u001b[0m\u001b[0;34m=\u001b[0m\u001b[0mignore\u001b[0m\u001b[0;34m,\u001b[0m\u001b[0;34m\u001b[0m\u001b[0;34m\u001b[0m\u001b[0m\n\u001b[0;32m--> 352\u001b[0;31m                     \u001b[0mtimeout\u001b[0m\u001b[0;34m=\u001b[0m\u001b[0mtimeout\u001b[0m\u001b[0;34m,\u001b[0m\u001b[0;34m\u001b[0m\u001b[0;34m\u001b[0m\u001b[0m\n\u001b[0m\u001b[1;32m    353\u001b[0m                 )\n\u001b[1;32m    354\u001b[0m \u001b[0;34m\u001b[0m\u001b[0m\n",
      "\u001b[0;32m~/opt/anaconda3/envs/tf2/lib/python3.6/site-packages/elasticsearch/connection/http_urllib3.py\u001b[0m in \u001b[0;36mperform_request\u001b[0;34m(self, method, url, params, body, timeout, ignore, headers)\u001b[0m\n\u001b[1;32m    254\u001b[0m                 \u001b[0mmethod\u001b[0m\u001b[0;34m,\u001b[0m \u001b[0mfull_url\u001b[0m\u001b[0;34m,\u001b[0m \u001b[0murl\u001b[0m\u001b[0;34m,\u001b[0m \u001b[0morig_body\u001b[0m\u001b[0;34m,\u001b[0m \u001b[0mduration\u001b[0m\u001b[0;34m,\u001b[0m \u001b[0mresponse\u001b[0m\u001b[0;34m.\u001b[0m\u001b[0mstatus\u001b[0m\u001b[0;34m,\u001b[0m \u001b[0mraw_data\u001b[0m\u001b[0;34m\u001b[0m\u001b[0;34m\u001b[0m\u001b[0m\n\u001b[1;32m    255\u001b[0m             )\n\u001b[0;32m--> 256\u001b[0;31m             \u001b[0mself\u001b[0m\u001b[0;34m.\u001b[0m\u001b[0m_raise_error\u001b[0m\u001b[0;34m(\u001b[0m\u001b[0mresponse\u001b[0m\u001b[0;34m.\u001b[0m\u001b[0mstatus\u001b[0m\u001b[0;34m,\u001b[0m \u001b[0mraw_data\u001b[0m\u001b[0;34m)\u001b[0m\u001b[0;34m\u001b[0m\u001b[0;34m\u001b[0m\u001b[0m\n\u001b[0m\u001b[1;32m    257\u001b[0m \u001b[0;34m\u001b[0m\u001b[0m\n\u001b[1;32m    258\u001b[0m         self.log_request_success(\n",
      "\u001b[0;32m~/opt/anaconda3/envs/tf2/lib/python3.6/site-packages/elasticsearch/connection/base.py\u001b[0m in \u001b[0;36m_raise_error\u001b[0;34m(self, status_code, raw_data)\u001b[0m\n\u001b[1;32m    286\u001b[0m \u001b[0;34m\u001b[0m\u001b[0m\n\u001b[1;32m    287\u001b[0m         raise HTTP_EXCEPTIONS.get(status_code, TransportError)(\n\u001b[0;32m--> 288\u001b[0;31m             \u001b[0mstatus_code\u001b[0m\u001b[0;34m,\u001b[0m \u001b[0merror_message\u001b[0m\u001b[0;34m,\u001b[0m \u001b[0madditional_info\u001b[0m\u001b[0;34m\u001b[0m\u001b[0;34m\u001b[0m\u001b[0m\n\u001b[0m\u001b[1;32m    289\u001b[0m         )\n\u001b[1;32m    290\u001b[0m \u001b[0;34m\u001b[0m\u001b[0m\n",
      "\u001b[0;31mRequestError\u001b[0m: RequestError(400, 'search_phase_execution_exception', 'runtime error')"
     ]
    }
   ],
   "source": [
    "from elasticsearch import logger\n",
    "import logging\n",
    "\n",
    "logger.setLevel(logging.DEBUG)\n",
    "\n",
    "response = es.search(\n",
    "    index=INDEX_NAME,\n",
    "    body={\"size\": 10, \"query\": script_query, \"_source\": {\"includes\": [\"Image_name\"]}},\n",
    "    error_trace=True,\n",
    ")\n",
    "\n",
    "pprint.pprint(response)"
   ]
  },
  {
   "cell_type": "code",
   "execution_count": 9,
   "metadata": {},
   "outputs": [
    {
     "name": "stdout",
     "output_type": "stream",
     "text": [
      "User_Query_Vector: tensor([[ 9.1801e-02,  1.4127e-01,  2.0235e-01,  1.1216e-01,  4.4385e-02,\n",
      "         -3.1847e-01,  8.1563e-02, -8.4541e-01,  7.8579e-02,  2.5362e-01,\n",
      "         -5.9045e-02,  1.1031e-01, -3.1031e-01, -5.3443e-02, -2.1382e-01,\n",
      "         -2.2913e-02,  4.1694e-01,  1.4623e-01, -3.5519e-02, -1.8012e-01,\n",
      "          3.4681e-01,  1.9302e-01,  2.2985e-01, -4.4258e-03, -7.7956e-02,\n",
      "          1.9763e-02, -1.2042e-01,  4.4946e-02, -1.2162e-01, -9.4748e-03,\n",
      "          2.6209e-01, -2.4862e-01,  1.5789e-02,  9.1825e-03,  5.3633e-01,\n",
      "          2.0002e-01,  6.5814e-02, -8.2335e-02,  6.5740e-03,  2.4167e-01,\n",
      "         -3.1834e-01,  1.2122e-01, -1.6003e-01, -5.8853e-02,  1.6617e-01,\n",
      "          6.8026e-01,  6.6621e-02,  2.7155e-01, -8.1397e-02, -1.2305e-01,\n",
      "          3.6040e-01,  7.2553e-02,  1.3301e-01, -3.9426e-01, -2.1863e-01,\n",
      "         -1.5800e-01, -1.3766e-01,  2.1554e-01, -2.0010e-01,  6.0471e-02,\n",
      "          6.2414e-01,  1.1377e-01,  8.3775e-02, -2.8244e-02,  7.7618e-02,\n",
      "         -1.1912e-01, -3.5439e-02,  3.7482e-01, -2.3644e-01, -5.4249e-02,\n",
      "         -5.0460e-02,  1.9306e-01,  8.0288e-02, -3.0764e-02,  2.1557e-01,\n",
      "          6.7482e-02, -3.0502e-02,  2.7439e-02,  2.6680e-01, -9.9452e-02,\n",
      "         -2.2429e-01, -1.6229e-01, -3.2671e-02,  3.4630e-01,  1.5953e-01,\n",
      "          7.5074e-02, -1.5323e-01, -1.8082e-01,  9.4459e-02,  3.9975e-02,\n",
      "          1.2359e-01,  6.6201e-02, -1.7972e+00, -3.7804e-01,  4.6522e-01,\n",
      "          2.1818e-01, -7.4016e-02, -1.0387e-01,  5.5097e-01,  1.7473e-01,\n",
      "          2.6349e-01,  2.1139e-01,  2.5747e-01,  3.4724e-01, -3.7996e-01,\n",
      "          8.2433e-02,  9.1838e-02,  2.3207e-02, -2.2795e-01, -2.1983e-01,\n",
      "          1.3257e-01,  1.0508e+00,  2.8787e-01,  1.2636e-01, -2.1943e-01,\n",
      "         -1.3607e-01,  5.0010e-02,  1.7781e-01, -1.5513e-02, -5.9416e-02,\n",
      "          2.9106e-01, -3.8682e-01,  5.1054e-02, -8.1407e-02, -2.1533e-01,\n",
      "         -2.2128e-01, -1.2781e-01,  1.7337e-01,  2.0306e-01,  4.6487e-01,\n",
      "          4.5367e-01, -1.6761e-02, -1.5433e-01,  7.7774e+00, -7.6140e-02,\n",
      "          1.2866e-02, -1.7573e-01, -2.0659e-01, -3.0673e-02,  1.9646e-01,\n",
      "         -2.6832e-02, -2.4572e-01, -1.3146e-01,  1.4836e-01, -2.5751e-01,\n",
      "          8.4340e-02, -3.5918e-03,  5.3068e-02, -3.2667e-01, -1.1243e-01,\n",
      "          2.5242e-01,  8.0683e-02,  1.7755e-01,  1.5050e-01, -7.9558e-02,\n",
      "          4.6565e-03, -4.7885e-02, -5.1556e-02, -1.6516e-01,  1.8950e-01,\n",
      "         -1.9429e-01,  8.3178e-02,  4.0833e-02, -3.2661e-01,  1.3586e-01,\n",
      "          8.9384e-02,  2.0168e-01, -8.6291e-02,  8.3014e-02, -2.0249e-01,\n",
      "          1.6335e-01, -1.5953e-01,  3.5134e-05,  6.5989e-02, -5.8791e-02,\n",
      "          1.6687e-01, -1.4773e-02, -2.8058e-01,  3.1210e-02,  1.9887e-03,\n",
      "          4.7329e-01,  3.1414e-01,  2.0199e-01, -2.2847e-02, -1.0963e-02,\n",
      "          5.1472e-02,  7.2591e-02, -2.6011e-01,  9.8002e-02, -1.9060e-02,\n",
      "          2.4673e-01, -2.9858e-01, -4.6604e-01, -1.3365e-01, -1.6998e-01,\n",
      "          1.8936e-01,  1.2865e-01,  1.0123e-01, -5.5131e-03, -2.0856e-01,\n",
      "         -1.8657e-01, -1.8066e-01,  8.8728e-02,  2.1933e-01, -2.1196e-01,\n",
      "         -1.8870e-01, -1.2260e-01, -1.7562e-01,  1.5089e-01,  4.7812e-02,\n",
      "         -1.3943e-01,  4.6710e-02,  1.0632e-02,  3.0435e-01, -6.6013e-02,\n",
      "         -2.2542e-01, -3.5469e-03,  5.8285e-02,  1.2373e-02, -1.7652e-01,\n",
      "         -2.1914e-01, -1.9578e-01, -2.4590e-01, -3.9445e-02, -2.0758e-02,\n",
      "          3.7914e-02, -1.1533e-01,  2.0719e-01, -1.7080e-01,  4.9330e-02,\n",
      "         -3.0249e-03,  1.3936e-01,  1.7718e-01, -1.6491e-01,  1.5872e-01,\n",
      "          2.9545e-01,  2.4613e-01, -8.6126e-02, -7.1685e-02, -2.3571e-01,\n",
      "         -1.6123e-01,  1.5708e-01, -4.5134e-02,  3.3979e-01, -2.2997e-01,\n",
      "         -3.3963e-01, -9.1741e-02, -2.2720e-01, -4.9464e-03,  7.9574e-02,\n",
      "          2.4166e-01,  1.5298e-01,  7.8170e-02,  3.7227e-02, -1.6003e-01,\n",
      "          2.1193e-01,  1.5644e-01, -3.7973e-01, -3.2932e-01,  1.0894e-01,\n",
      "         -5.4847e-02, -9.8395e-02,  1.1454e-01, -3.2868e-01,  2.0750e-01,\n",
      "          7.5364e-02,  2.0649e-01, -3.0894e-01,  1.4251e-01,  3.0025e-02,\n",
      "          1.6301e-01, -1.3413e-01,  5.4857e-02, -1.5177e-01, -6.2690e-02,\n",
      "         -3.4256e-01,  2.3159e-01, -2.3033e-02,  4.0254e-02, -1.0964e-01,\n",
      "          1.3493e-02,  3.6505e-02,  5.5482e-01,  1.4301e-01, -1.1829e-01,\n",
      "          6.3976e-03, -2.9529e-02,  8.6427e-02, -1.6550e-01, -1.3428e-01,\n",
      "          1.3990e-01, -2.2959e-01,  7.4974e-02,  1.9080e-01, -2.3526e-01,\n",
      "         -3.0496e-01, -1.2608e-02, -1.8882e-02,  6.7066e-02, -3.0200e-01,\n",
      "          9.1394e-02,  6.6393e-02, -2.2154e-02,  5.6549e-02, -2.7848e-01,\n",
      "         -4.2483e-01, -2.2241e-01, -2.8520e-01,  2.1389e-01,  2.6666e-02,\n",
      "         -2.0248e-01, -9.0882e-02,  7.7681e+00,  1.6847e-01,  2.2985e-02,\n",
      "          3.4107e-01, -2.0479e-01,  4.6745e-02,  3.2578e-01,  1.3042e-01,\n",
      "          7.3889e-02,  5.9446e-02,  3.5212e-03,  3.6713e-01,  1.8499e-01,\n",
      "          1.7624e-01, -2.0679e-01,  6.7486e-02, -2.1052e-01, -2.7379e+00,\n",
      "         -1.1764e-01,  1.4726e-01, -2.5510e-02, -3.3398e-01,  5.5519e-02,\n",
      "          2.9126e-02, -2.7138e-01,  4.1861e-01, -5.9438e-02,  1.3714e-01,\n",
      "         -2.1321e-02, -6.8035e-02, -3.8472e-01, -1.3699e-01,  1.5412e-01,\n",
      "         -1.2875e-01, -1.2494e-01,  2.9530e-01, -8.8771e-02,  2.3718e-01,\n",
      "          5.9891e-02,  1.2981e-01,  2.3582e-01, -2.2698e-02,  1.7730e-01,\n",
      "          6.2271e-01, -9.2707e-03, -4.2069e-01, -2.1981e-02,  1.1210e-02,\n",
      "         -1.2629e-01, -1.3248e-01, -2.2727e-01,  1.3327e-01,  6.4820e-01,\n",
      "          6.4009e-02,  1.0178e-01,  2.3156e-01, -1.9074e-03, -1.6404e-01,\n",
      "         -1.1514e-01, -3.0245e-02,  9.9239e-02, -3.5243e-02, -1.5876e-01,\n",
      "          1.9275e-01, -1.8384e-01,  2.3164e-02, -3.3004e-01,  1.0460e-01,\n",
      "         -1.3944e-01, -1.4000e-02, -5.8431e-02, -1.7923e-01, -1.4588e-01,\n",
      "         -2.3890e-01,  3.5143e-01, -2.1807e-01, -1.0910e-01,  4.3086e-02,\n",
      "          3.9429e-01,  4.0785e-03,  5.9931e-02, -1.1159e-01, -1.0507e-01,\n",
      "          1.4555e-01, -1.6899e-01,  1.3391e-01, -4.5779e-03,  5.6346e-01,\n",
      "         -2.9128e-01, -2.0460e-02,  1.7944e-01, -6.0813e-02, -1.8923e-01,\n",
      "          7.2996e-02,  1.5947e-01, -1.9803e-01,  4.7262e-02,  1.4730e-01,\n",
      "          3.5115e-01,  1.2311e-01, -2.0434e-01,  2.8119e-01,  6.0295e-02,\n",
      "         -1.4965e-02, -1.8634e-01,  3.6898e-02, -7.2805e-02, -5.5553e-02,\n",
      "         -1.0383e-01,  3.5383e-01, -2.7599e-01, -4.8600e-02, -1.6839e-01,\n",
      "          1.3730e-01,  1.8334e-01, -5.4582e-02, -3.3698e-03,  1.0442e-01,\n",
      "         -1.4227e-01, -6.2446e-02, -1.2767e-01, -1.2625e-01, -6.1768e-02,\n",
      "          2.6783e-01, -7.3700e-03, -1.7348e-01, -2.5348e-01, -1.9678e-01,\n",
      "         -4.4947e-02,  3.2339e-01, -2.8137e-01, -1.0590e-02,  1.2294e-01,\n",
      "          1.3011e-01, -5.3007e-01, -2.4963e-01,  5.6263e-02,  9.0024e-02,\n",
      "         -6.9562e-01,  1.8357e-01, -4.2753e-02,  9.9887e-02, -1.7291e-01,\n",
      "         -1.1183e-01,  1.1881e-01,  1.5682e-01, -2.5806e-01, -2.2740e-01,\n",
      "          2.6793e-01, -1.8281e-01, -1.7492e-01,  1.8724e-01,  3.2336e-01,\n",
      "         -1.5439e-01,  6.3875e-02,  2.0378e-01, -1.0774e-01,  1.0670e-01,\n",
      "          2.3203e-01,  3.4534e-03,  1.2935e-01, -5.2114e-01, -3.5569e-01,\n",
      "          4.1385e-02,  1.5454e-01,  1.9317e-01,  7.5364e-02,  1.1322e-01,\n",
      "          9.7761e-02, -9.5544e-01, -5.1416e-03,  6.0519e-02, -3.6725e-01,\n",
      "         -1.7937e-01,  3.1277e-01,  1.3810e-01, -5.2809e-02,  2.6414e-02,\n",
      "         -3.1906e-01,  1.8173e-01, -3.3529e-02,  6.9492e-01, -9.8476e-02,\n",
      "         -3.6148e-02, -1.9301e-01, -3.0796e-01,  1.3778e-02,  2.8253e-02,\n",
      "         -1.1103e-01, -6.1582e-02,  5.8422e-02,  3.7740e-01,  5.3958e-02,\n",
      "         -1.1579e-01, -9.4604e-02, -1.1851e-01,  3.2169e-02, -9.1164e-01,\n",
      "         -4.2372e-02,  7.2498e-02]])\n",
      "User_Query_Vector shape: torch.Size([1, 512])\n"
     ]
    }
   ],
   "source": [
    "print(\"User_Query_Vector:\", User_Query_Vector)\n",
    "print(\"User_Query_Vector shape:\", User_Query_Vector.shape)\n"
   ]
  },
  {
   "cell_type": "code",
   "execution_count": 23,
   "metadata": {},
   "outputs": [
    {
     "name": "stdout",
     "output_type": "stream",
     "text": [
      "Your public IP address is: 77.129.211.10\n"
     ]
    }
   ],
   "source": [
    "import requests\n",
    "\n",
    "response = requests.get(\"http://ipecho.net/plain\")\n",
    "public_ip = response.text\n",
    "print(\"Your public IP address is:\", public_ip)\n",
    "?"
   ]
  },
  {
   "cell_type": "code",
   "execution_count": null,
   "metadata": {},
   "outputs": [],
   "source": []
  }
 ],
 "metadata": {
  "kernelspec": {
   "display_name": "elasticsearch",
   "language": "python",
   "name": "elasticsearch"
  },
  "language_info": {
   "codemirror_mode": {
    "name": "ipython",
    "version": 3
   },
   "file_extension": ".py",
   "mimetype": "text/x-python",
   "name": "python",
   "nbconvert_exporter": "python",
   "pygments_lexer": "ipython3",
   "version": "3.6.10"
  }
 },
 "nbformat": 4,
 "nbformat_minor": 5
}
