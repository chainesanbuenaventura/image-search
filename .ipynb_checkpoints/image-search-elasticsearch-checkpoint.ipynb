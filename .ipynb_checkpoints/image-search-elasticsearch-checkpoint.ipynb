{
 "cells": [
  {
   "cell_type": "markdown",
   "metadata": {},
   "source": [
    "# Installation"
   ]
  },
  {
   "cell_type": "code",
   "execution_count": 1,
   "metadata": {},
   "outputs": [
    {
     "name": "stdout",
     "output_type": "stream",
     "text": [
      "Collecting flickrapi\n",
      "  Downloading flickrapi-2.4.0-py2.py3-none-any.whl (26 kB)\n",
      "Requirement already satisfied: requests-oauthlib>=0.4.0 in /Users/macbookpro/opt/anaconda3/envs/tf2/lib/python3.6/site-packages (from flickrapi) (1.3.0)\n",
      "Requirement already satisfied: requests-toolbelt>=0.3.1 in /Users/macbookpro/opt/anaconda3/envs/tf2/lib/python3.6/site-packages (from flickrapi) (0.9.1)\n",
      "Requirement already satisfied: requests>=2.2.1 in /Users/macbookpro/opt/anaconda3/envs/tf2/lib/python3.6/site-packages (from flickrapi) (2.25.1)\n",
      "Requirement already satisfied: six>=1.5.2 in /Users/macbookpro/opt/anaconda3/envs/tf2/lib/python3.6/site-packages (from flickrapi) (1.15.0)\n",
      "Requirement already satisfied: urllib3<1.27,>=1.21.1 in /Users/macbookpro/opt/anaconda3/envs/tf2/lib/python3.6/site-packages (from requests>=2.2.1->flickrapi) (1.26.5)\n",
      "Requirement already satisfied: chardet<5,>=3.0.2 in /Users/macbookpro/opt/anaconda3/envs/tf2/lib/python3.6/site-packages (from requests>=2.2.1->flickrapi) (4.0.0)\n",
      "Requirement already satisfied: idna<3,>=2.5 in /Users/macbookpro/opt/anaconda3/envs/tf2/lib/python3.6/site-packages (from requests>=2.2.1->flickrapi) (2.10)\n",
      "Requirement already satisfied: certifi>=2017.4.17 in /Users/macbookpro/opt/anaconda3/envs/tf2/lib/python3.6/site-packages (from requests>=2.2.1->flickrapi) (2021.5.30)\n",
      "Requirement already satisfied: oauthlib>=3.0.0 in /Users/macbookpro/opt/anaconda3/envs/tf2/lib/python3.6/site-packages (from requests-oauthlib>=0.4.0->flickrapi) (3.1.1)\n",
      "Installing collected packages: flickrapi\n",
      "Successfully installed flickrapi-2.4.0\n",
      "\u001b[33mWARNING: You are using pip version 21.1.2; however, version 21.3.1 is available.\n",
      "You should consider upgrading via the '/Users/macbookpro/opt/anaconda3/envs/tf2/bin/python -m pip install --upgrade pip' command.\u001b[0m\n",
      "Note: you may need to restart the kernel to use updated packages.\n"
     ]
    }
   ],
   "source": [
    "%pip install flickrapi"
   ]
  },
  {
   "cell_type": "code",
   "execution_count": 2,
   "metadata": {},
   "outputs": [
    {
     "name": "stdout",
     "output_type": "stream",
     "text": [
      "Collecting ftfy\n",
      "  Downloading ftfy-6.0.3.tar.gz (64 kB)\n",
      "\u001b[K     |████████████████████████████████| 64 kB 5.2 MB/s eta 0:00:011\n",
      "\u001b[?25hRequirement already satisfied: regex in /Users/macbookpro/opt/anaconda3/envs/tf2/lib/python3.6/site-packages (2020.6.8)\n",
      "Requirement already satisfied: tqdm in /Users/macbookpro/opt/anaconda3/envs/tf2/lib/python3.6/site-packages (4.47.0)\n",
      "Requirement already satisfied: wcwidth in /Users/macbookpro/opt/anaconda3/envs/tf2/lib/python3.6/site-packages (from ftfy) (0.2.5)\n",
      "Building wheels for collected packages: ftfy\n",
      "  Building wheel for ftfy (setup.py) ... \u001b[?25ldone\n",
      "\u001b[?25h  Created wheel for ftfy: filename=ftfy-6.0.3-py3-none-any.whl size=41934 sha256=9d42f2885fd2d4c3e2065e7865e67aa62ab645c014166d50d3b6247384665736\n",
      "  Stored in directory: /Users/macbookpro/Library/Caches/pip/wheels/ff/2a/24/75041425faf3347ab146a4a3d0484f723b2c44a7966a06e3f0\n",
      "Successfully built ftfy\n",
      "Installing collected packages: ftfy\n",
      "Successfully installed ftfy-6.0.3\n",
      "\u001b[33mWARNING: You are using pip version 21.1.2; however, version 21.3.1 is available.\n",
      "You should consider upgrading via the '/Users/macbookpro/opt/anaconda3/envs/tf2/bin/python -m pip install --upgrade pip' command.\u001b[0m\n",
      "Note: you may need to restart the kernel to use updated packages.\n",
      "Collecting git+https://github.com/openai/CLIP.git\n",
      "  Cloning https://github.com/openai/CLIP.git to /private/var/folders/9z/vxzd5t7x2vn4503l8w3td5pm0000gn/T/pip-req-build-sz58aa19\n",
      "  Running command git clone -q https://github.com/openai/CLIP.git /private/var/folders/9z/vxzd5t7x2vn4503l8w3td5pm0000gn/T/pip-req-build-sz58aa19\n",
      "Requirement already satisfied: ftfy in /Users/macbookpro/opt/anaconda3/envs/tf2/lib/python3.6/site-packages (from clip==1.0) (6.0.3)\n",
      "Requirement already satisfied: regex in /Users/macbookpro/opt/anaconda3/envs/tf2/lib/python3.6/site-packages (from clip==1.0) (2020.6.8)\n",
      "Requirement already satisfied: tqdm in /Users/macbookpro/opt/anaconda3/envs/tf2/lib/python3.6/site-packages (from clip==1.0) (4.47.0)\n",
      "Requirement already satisfied: torch in /Users/macbookpro/opt/anaconda3/envs/tf2/lib/python3.6/site-packages (from clip==1.0) (1.9.0)\n",
      "Requirement already satisfied: torchvision in /Users/macbookpro/opt/anaconda3/envs/tf2/lib/python3.6/site-packages (from clip==1.0) (0.10.0)\n",
      "Requirement already satisfied: wcwidth in /Users/macbookpro/opt/anaconda3/envs/tf2/lib/python3.6/site-packages (from ftfy->clip==1.0) (0.2.5)\n",
      "Requirement already satisfied: typing-extensions in /Users/macbookpro/opt/anaconda3/envs/tf2/lib/python3.6/site-packages (from torch->clip==1.0) (3.7.4.3)\n",
      "Requirement already satisfied: dataclasses in /Users/macbookpro/opt/anaconda3/envs/tf2/lib/python3.6/site-packages (from torch->clip==1.0) (0.8)\n",
      "Requirement already satisfied: pillow>=5.3.0 in /Users/macbookpro/opt/anaconda3/envs/tf2/lib/python3.6/site-packages (from torchvision->clip==1.0) (7.2.0)\n",
      "Requirement already satisfied: numpy in /Users/macbookpro/opt/anaconda3/envs/tf2/lib/python3.6/site-packages (from torchvision->clip==1.0) (1.19.5)\n",
      "Building wheels for collected packages: clip\n",
      "  Building wheel for clip (setup.py) ... \u001b[?25ldone\n",
      "\u001b[?25h  Created wheel for clip: filename=clip-1.0-py3-none-any.whl size=1369409 sha256=0204f28a82032ce5079fd5499952cfadeae7b42e9211be2da26fbb1d6eaba3cc\n",
      "  Stored in directory: /private/var/folders/9z/vxzd5t7x2vn4503l8w3td5pm0000gn/T/pip-ephem-wheel-cache-vqrbip7m/wheels/41/36/e0/af6191bd08c254b17d779b05de8282c9ea81ef7048abbe290b\n",
      "Successfully built clip\n",
      "Installing collected packages: clip\n",
      "Successfully installed clip-1.0\n",
      "\u001b[33mWARNING: You are using pip version 21.1.2; however, version 21.3.1 is available.\n",
      "You should consider upgrading via the '/Users/macbookpro/opt/anaconda3/envs/tf2/bin/python -m pip install --upgrade pip' command.\u001b[0m\n",
      "Note: you may need to restart the kernel to use updated packages.\n"
     ]
    }
   ],
   "source": [
    "%pip install ftfy regex tqdm\n",
    "%pip install git+https://github.com/openai/CLIP.git"
   ]
  },
  {
   "cell_type": "code",
   "execution_count": 3,
   "metadata": {},
   "outputs": [
    {
     "name": "stdout",
     "output_type": "stream",
     "text": [
      "Collecting transformers==4.18.0\n",
      "  Downloading transformers-4.18.0-py3-none-any.whl (4.0 MB)\n",
      "\u001b[K     |████████████████████████████████| 4.0 MB 7.1 MB/s eta 0:00:01\n",
      "\u001b[?25hRequirement already satisfied: packaging>=20.0 in /Users/macbookpro/opt/anaconda3/envs/tf2/lib/python3.6/site-packages (from transformers==4.18.0) (20.4)\n",
      "Requirement already satisfied: numpy>=1.17 in /Users/macbookpro/opt/anaconda3/envs/tf2/lib/python3.6/site-packages (from transformers==4.18.0) (1.19.5)\n",
      "Requirement already satisfied: tqdm>=4.27 in /Users/macbookpro/opt/anaconda3/envs/tf2/lib/python3.6/site-packages (from transformers==4.18.0) (4.47.0)\n",
      "Requirement already satisfied: pyyaml>=5.1 in /Users/macbookpro/opt/anaconda3/envs/tf2/lib/python3.6/site-packages (from transformers==4.18.0) (5.3.1)\n",
      "Requirement already satisfied: requests in /Users/macbookpro/opt/anaconda3/envs/tf2/lib/python3.6/site-packages (from transformers==4.18.0) (2.25.1)\n",
      "Requirement already satisfied: filelock in /Users/macbookpro/opt/anaconda3/envs/tf2/lib/python3.6/site-packages (from transformers==4.18.0) (3.0.12)\n",
      "Collecting tokenizers!=0.11.3,<0.13,>=0.11.1\n",
      "  Downloading tokenizers-0.12.1.tar.gz (220 kB)\n",
      "\u001b[K     |████████████████████████████████| 220 kB 46.4 MB/s eta 0:00:01\n",
      "\u001b[?25h  Installing build dependencies ... \u001b[?25ldone\n",
      "\u001b[?25h  Getting requirements to build wheel ... \u001b[?25ldone\n",
      "\u001b[?25h    Preparing wheel metadata ... \u001b[?25ldone\n",
      "\u001b[?25hRequirement already satisfied: importlib-metadata in /Users/macbookpro/opt/anaconda3/envs/tf2/lib/python3.6/site-packages (from transformers==4.18.0) (4.5.0)\n",
      "Requirement already satisfied: dataclasses in /Users/macbookpro/opt/anaconda3/envs/tf2/lib/python3.6/site-packages (from transformers==4.18.0) (0.8)\n",
      "Collecting sacremoses\n",
      "  Downloading sacremoses-0.0.53.tar.gz (880 kB)\n",
      "\u001b[K     |████████████████████████████████| 880 kB 37.9 MB/s eta 0:00:01\n",
      "\u001b[?25hRequirement already satisfied: regex!=2019.12.17 in /Users/macbookpro/opt/anaconda3/envs/tf2/lib/python3.6/site-packages (from transformers==4.18.0) (2020.6.8)\n",
      "Collecting huggingface-hub<1.0,>=0.1.0\n",
      "  Downloading huggingface_hub-0.4.0-py3-none-any.whl (67 kB)\n",
      "\u001b[K     |████████████████████████████████| 67 kB 12.8 MB/s eta 0:00:01\n",
      "\u001b[?25hCollecting packaging>=20.0\n",
      "  Using cached packaging-21.3-py3-none-any.whl (40 kB)\n",
      "Requirement already satisfied: typing-extensions>=3.7.4.3 in /Users/macbookpro/opt/anaconda3/envs/tf2/lib/python3.6/site-packages (from huggingface-hub<1.0,>=0.1.0->transformers==4.18.0) (3.7.4.3)\n",
      "Requirement already satisfied: pyparsing!=3.0.5,>=2.0.2 in /Users/macbookpro/opt/anaconda3/envs/tf2/lib/python3.6/site-packages (from packaging>=20.0->transformers==4.18.0) (2.4.7)\n",
      "Requirement already satisfied: zipp>=0.5 in /Users/macbookpro/opt/anaconda3/envs/tf2/lib/python3.6/site-packages (from importlib-metadata->transformers==4.18.0) (3.4.1)\n",
      "Requirement already satisfied: chardet<5,>=3.0.2 in /Users/macbookpro/opt/anaconda3/envs/tf2/lib/python3.6/site-packages (from requests->transformers==4.18.0) (4.0.0)\n",
      "Requirement already satisfied: idna<3,>=2.5 in /Users/macbookpro/opt/anaconda3/envs/tf2/lib/python3.6/site-packages (from requests->transformers==4.18.0) (2.10)\n",
      "Requirement already satisfied: urllib3<1.27,>=1.21.1 in /Users/macbookpro/opt/anaconda3/envs/tf2/lib/python3.6/site-packages (from requests->transformers==4.18.0) (1.26.5)\n",
      "Requirement already satisfied: certifi>=2017.4.17 in /Users/macbookpro/opt/anaconda3/envs/tf2/lib/python3.6/site-packages (from requests->transformers==4.18.0) (2021.5.30)\n",
      "Requirement already satisfied: six in /Users/macbookpro/opt/anaconda3/envs/tf2/lib/python3.6/site-packages (from sacremoses->transformers==4.18.0) (1.15.0)\n",
      "Requirement already satisfied: click in /Users/macbookpro/opt/anaconda3/envs/tf2/lib/python3.6/site-packages (from sacremoses->transformers==4.18.0) (7.1.2)\n",
      "Requirement already satisfied: joblib in /Users/macbookpro/opt/anaconda3/envs/tf2/lib/python3.6/site-packages (from sacremoses->transformers==4.18.0) (0.16.0)\n",
      "Building wheels for collected packages: tokenizers, sacremoses\n",
      "  Building wheel for tokenizers (PEP 517) ... \u001b[?25lerror\n",
      "\u001b[31m  ERROR: Command errored out with exit status 1:\n",
      "   command: /Users/macbookpro/opt/anaconda3/envs/tf2/bin/python /Users/macbookpro/opt/anaconda3/envs/tf2/lib/python3.6/site-packages/pip/_vendor/pep517/in_process/_in_process.py build_wheel /var/folders/9z/vxzd5t7x2vn4503l8w3td5pm0000gn/T/tmpulmgh_b_\n",
      "       cwd: /private/var/folders/9z/vxzd5t7x2vn4503l8w3td5pm0000gn/T/pip-install-k77v3z4i/tokenizers_8b2d7cf4feb04828b7e1be5c749bcf57\n",
      "  Complete output (51 lines):\n",
      "  running bdist_wheel\n",
      "  running build\n",
      "  running build_py\n",
      "  creating build\n",
      "  creating build/lib.macosx-10.9-x86_64-3.6\n",
      "  creating build/lib.macosx-10.9-x86_64-3.6/tokenizers\n",
      "  copying py_src/tokenizers/__init__.py -> build/lib.macosx-10.9-x86_64-3.6/tokenizers\n",
      "  creating build/lib.macosx-10.9-x86_64-3.6/tokenizers/models\n",
      "  copying py_src/tokenizers/models/__init__.py -> build/lib.macosx-10.9-x86_64-3.6/tokenizers/models\n",
      "  creating build/lib.macosx-10.9-x86_64-3.6/tokenizers/decoders\n",
      "  copying py_src/tokenizers/decoders/__init__.py -> build/lib.macosx-10.9-x86_64-3.6/tokenizers/decoders\n",
      "  creating build/lib.macosx-10.9-x86_64-3.6/tokenizers/normalizers\n",
      "  copying py_src/tokenizers/normalizers/__init__.py -> build/lib.macosx-10.9-x86_64-3.6/tokenizers/normalizers\n",
      "  creating build/lib.macosx-10.9-x86_64-3.6/tokenizers/pre_tokenizers\n",
      "  copying py_src/tokenizers/pre_tokenizers/__init__.py -> build/lib.macosx-10.9-x86_64-3.6/tokenizers/pre_tokenizers\n",
      "  creating build/lib.macosx-10.9-x86_64-3.6/tokenizers/processors\n",
      "  copying py_src/tokenizers/processors/__init__.py -> build/lib.macosx-10.9-x86_64-3.6/tokenizers/processors\n",
      "  creating build/lib.macosx-10.9-x86_64-3.6/tokenizers/trainers\n",
      "  copying py_src/tokenizers/trainers/__init__.py -> build/lib.macosx-10.9-x86_64-3.6/tokenizers/trainers\n",
      "  creating build/lib.macosx-10.9-x86_64-3.6/tokenizers/implementations\n",
      "  copying py_src/tokenizers/implementations/byte_level_bpe.py -> build/lib.macosx-10.9-x86_64-3.6/tokenizers/implementations\n",
      "  copying py_src/tokenizers/implementations/sentencepiece_unigram.py -> build/lib.macosx-10.9-x86_64-3.6/tokenizers/implementations\n",
      "  copying py_src/tokenizers/implementations/sentencepiece_bpe.py -> build/lib.macosx-10.9-x86_64-3.6/tokenizers/implementations\n",
      "  copying py_src/tokenizers/implementations/base_tokenizer.py -> build/lib.macosx-10.9-x86_64-3.6/tokenizers/implementations\n",
      "  copying py_src/tokenizers/implementations/__init__.py -> build/lib.macosx-10.9-x86_64-3.6/tokenizers/implementations\n",
      "  copying py_src/tokenizers/implementations/char_level_bpe.py -> build/lib.macosx-10.9-x86_64-3.6/tokenizers/implementations\n",
      "  copying py_src/tokenizers/implementations/bert_wordpiece.py -> build/lib.macosx-10.9-x86_64-3.6/tokenizers/implementations\n",
      "  creating build/lib.macosx-10.9-x86_64-3.6/tokenizers/tools\n",
      "  copying py_src/tokenizers/tools/__init__.py -> build/lib.macosx-10.9-x86_64-3.6/tokenizers/tools\n",
      "  copying py_src/tokenizers/tools/visualizer.py -> build/lib.macosx-10.9-x86_64-3.6/tokenizers/tools\n",
      "  copying py_src/tokenizers/__init__.pyi -> build/lib.macosx-10.9-x86_64-3.6/tokenizers\n",
      "  copying py_src/tokenizers/models/__init__.pyi -> build/lib.macosx-10.9-x86_64-3.6/tokenizers/models\n",
      "  copying py_src/tokenizers/decoders/__init__.pyi -> build/lib.macosx-10.9-x86_64-3.6/tokenizers/decoders\n",
      "  copying py_src/tokenizers/normalizers/__init__.pyi -> build/lib.macosx-10.9-x86_64-3.6/tokenizers/normalizers\n",
      "  copying py_src/tokenizers/pre_tokenizers/__init__.pyi -> build/lib.macosx-10.9-x86_64-3.6/tokenizers/pre_tokenizers\n",
      "  copying py_src/tokenizers/processors/__init__.pyi -> build/lib.macosx-10.9-x86_64-3.6/tokenizers/processors\n",
      "  copying py_src/tokenizers/trainers/__init__.pyi -> build/lib.macosx-10.9-x86_64-3.6/tokenizers/trainers\n",
      "  copying py_src/tokenizers/tools/visualizer-styles.css -> build/lib.macosx-10.9-x86_64-3.6/tokenizers/tools\n",
      "  running build_ext\n",
      "  running build_rust\n",
      "  error: can't find Rust compiler\n",
      "  \n",
      "  If you are using an outdated pip version, it is possible a prebuilt wheel is available for this package but pip is not able to install from it. Installing from the wheel would avoid the need for a Rust compiler.\n",
      "  \n",
      "  To update pip, run:\n",
      "  \n",
      "      pip install --upgrade pip\n",
      "  \n",
      "  and then retry package installation.\n",
      "  \n",
      "  If you did intend to build this package from source, try installing a Rust compiler from your system package manager and ensure it is on the PATH during installation. Alternatively, rustup (available at https://rustup.rs) is the recommended way to download and update the Rust compiler toolchain.\n",
      "  ----------------------------------------\u001b[0m\n",
      "\u001b[31m  ERROR: Failed building wheel for tokenizers\u001b[0m\n"
     ]
    },
    {
     "name": "stdout",
     "output_type": "stream",
     "text": [
      "\u001b[?25h  Building wheel for sacremoses (setup.py) ... \u001b[?25ldone\n",
      "\u001b[?25h  Created wheel for sacremoses: filename=sacremoses-0.0.53-py3-none-any.whl size=895259 sha256=e197fe0d859111b3cfaf39cb0d4433bdc83919b27ff4f53d460107285f4062f6\n",
      "  Stored in directory: /Users/macbookpro/Library/Caches/pip/wheels/4c/64/31/e9900a234b23fb3e9dc565d6114a9d6ff84a72dbdd356502b4\n",
      "Successfully built sacremoses\n",
      "Failed to build tokenizers\n",
      "\u001b[31mERROR: Could not build wheels for tokenizers which use PEP 517 and cannot be installed directly\u001b[0m\n",
      "\u001b[33mWARNING: You are using pip version 21.1.2; however, version 21.3.1 is available.\n",
      "You should consider upgrading via the '/Users/macbookpro/opt/anaconda3/envs/tf2/bin/python -m pip install --upgrade pip' command.\u001b[0m\n",
      "Note: you may need to restart the kernel to use updated packages.\n"
     ]
    }
   ],
   "source": [
    "%pip install --upgrade transformers==4.18.0"
   ]
  },
  {
   "cell_type": "markdown",
   "metadata": {},
   "source": [
    "# Download Images"
   ]
  },
  {
   "cell_type": "code",
   "execution_count": 3,
   "metadata": {},
   "outputs": [
    {
     "name": "stdout",
     "output_type": "stream",
     "text": [
      "['https://farm66.staticflickr.com/65535/52754000013_038e7ceab5.jpg', 'https://farm66.staticflickr.com/65535/52753807230_e7425d1646.jpg', 'https://farm66.staticflickr.com/65535/52753620139_19f7ef09fd.jpg', 'https://farm66.staticflickr.com/65535/52752835642_2bfe44e656.jpg', 'https://farm66.staticflickr.com/65535/52753448389_b5981b7ed3.jpg', 'https://farm66.staticflickr.com/65535/52753597448_3774815deb.jpg', 'https://farm66.staticflickr.com/65535/52752542027_dc0430820e.jpg', 'https://farm66.staticflickr.com/65535/52753403785_3fb67fa67e.jpg', 'https://farm66.staticflickr.com/65535/52752442272_2251c44952.jpg', 'https://farm66.staticflickr.com/65535/52753464808_a2790440e9.jpg', 'https://farm66.staticflickr.com/65535/52753239640_c221fd73c0.jpg', 'https://farm66.staticflickr.com/65535/52752782376_6e92e1c26f.jpg', 'https://farm66.staticflickr.com/65535/52753099578_3b6036f206.jpg', 'https://farm66.staticflickr.com/65535/52752488601_1e6867d911.jpg', 'https://farm66.staticflickr.com/65535/52752703270_8cf9608d0a.jpg', 'https://farm66.staticflickr.com/65535/52752530629_b5e01aced8.jpg', 'https://farm66.staticflickr.com/65535/52752255906_bc801b0975.jpg', 'https://farm66.staticflickr.com/65535/52752443929_7ca693c035.jpg', 'https://farm66.staticflickr.com/65535/52751627287_3856770ce4.jpg', 'https://farm66.staticflickr.com/65535/52752544555_cd771f5d23.jpg', 'https://farm66.staticflickr.com/65535/52751546237_1a9d4f3fc6.jpg', 'https://farm66.staticflickr.com/65535/52752591878_44e2810cf6.jpg', 'https://farm66.staticflickr.com/65535/52751636801_2734257056.jpg', 'https://farm66.staticflickr.com/65535/52751615346_59a1daecf4.jpg', 'https://farm66.staticflickr.com/65535/52752091888_c3441d596c.jpg', 'https://farm66.staticflickr.com/65535/52751812334_f499e88030.jpg', 'https://farm66.staticflickr.com/65535/52751810759_c6d0510f4f.jpg', 'https://farm66.staticflickr.com/65535/52751798519_4ab2cc3ce0.jpg', 'https://farm66.staticflickr.com/65535/52751019877_0e9a776a8a.jpg', 'https://farm66.staticflickr.com/65535/52752041973_46110d3e5d.jpg', 'https://farm66.staticflickr.com/65535/52752038643_2901fe4270.jpg', 'https://farm66.staticflickr.com/65535/52751544776_84c12bd126.jpg', 'https://farm66.staticflickr.com/65535/52752033508_bb54b4c5e9.jpg', 'https://farm66.staticflickr.com/65535/52751778829_3dbdec4b45.jpg', 'https://farm66.staticflickr.com/65535/52752025488_34a2e1bb74.jpg', 'https://farm66.staticflickr.com/65535/52751943665_573960288d.jpg', 'https://farm66.staticflickr.com/65535/52751001472_9ae99edf19.jpg', 'https://farm66.staticflickr.com/65535/52750918047_969ff5d9ac.jpg', 'https://farm66.staticflickr.com/65535/52750838537_d28699e3af.jpg', 'https://farm66.staticflickr.com/65535/52751492994_125dc2deaf.jpg', 'https://farm66.staticflickr.com/65535/52751745833_de643993ee.jpg', 'https://farm66.staticflickr.com/65535/52751741618_fb8aa7301c.jpg', 'https://farm66.staticflickr.com/65535/52750720861_a2577bdf81.jpg', 'https://farm66.staticflickr.com/65535/52751211183_6cdae6f1fc.jpg', 'https://farm66.staticflickr.com/65535/52750649951_26c00ecdc8.jpg', 'https://farm66.staticflickr.com/65535/52750503421_eee25a4420.jpg', 'https://farm66.staticflickr.com/65535/52697531911_f97787b745.jpg', 'https://farm66.staticflickr.com/65535/52750663118_7e1b1ecd1f.jpg', 'https://farm66.staticflickr.com/65535/52750364600_011b25c019.jpg', 'https://farm66.staticflickr.com/65535/52750213805_533b0f6649.jpg', 'https://farm66.staticflickr.com/65535/52750213393_084d4d4463.jpg', 'https://farm66.staticflickr.com/65535/52749178732_385ff27c5d.jpg', 'https://farm66.staticflickr.com/65535/52749619679_2654f25b15.jpg', 'https://farm66.staticflickr.com/65535/52749829723_2028e8bd7e.jpg', 'https://farm66.staticflickr.com/65535/52749305686_a078d725bf.jpg', 'https://farm66.staticflickr.com/65535/52749616073_99f1017bc8.jpg', 'https://farm66.staticflickr.com/65535/52748564842_6eb889306b.jpg', 'https://farm66.staticflickr.com/65535/52749093726_f9ca408018.jpg', 'https://farm66.staticflickr.com/65535/52749186849_dfd04f4236.jpg', 'https://farm66.staticflickr.com/65535/52749267923_732b48f57f.jpg', 'https://farm66.staticflickr.com/65535/52749183810_986792b085.jpg', 'https://farm66.staticflickr.com/65535/52748679456_00f3a5884b.jpg', 'https://farm66.staticflickr.com/65535/52748929958_d58905287a.jpg', 'https://farm66.staticflickr.com/65535/52747904617_1610867bda.jpg', 'https://farm66.staticflickr.com/65535/52747905847_dcb0c99483.jpg', 'https://farm66.staticflickr.com/65535/52748347751_f6ea89f50e.jpg', 'https://farm66.staticflickr.com/65535/52747663427_71d2f6020b.jpg', 'https://farm66.staticflickr.com/65535/52748511030_3080aaecbe.jpg', 'https://farm66.staticflickr.com/65535/52748510755_79e38ca751.jpg', 'https://farm66.staticflickr.com/65535/52748562728_7abbc6a372.jpg', 'https://farm66.staticflickr.com/65535/52748240089_832113a727.jpg', 'https://farm66.staticflickr.com/65535/52748236689_349a0b5024.jpg', 'https://farm66.staticflickr.com/65535/52747989541_09024f6506.jpg', 'https://farm66.staticflickr.com/65535/52748182709_16a9678617.jpg', 'https://farm66.staticflickr.com/65535/52747920761_897a98a259.jpg', 'https://farm66.staticflickr.com/65535/52748165544_cfeaa4aa1c.jpg', 'https://farm66.staticflickr.com/65535/52747964909_bb9f51030f.jpg', 'https://farm66.staticflickr.com/65535/52747947744_26b50cf319.jpg', 'https://farm66.staticflickr.com/65535/52747869989_1fbd70189b.jpg', 'https://farm66.staticflickr.com/65535/52747619651_83435636e7.jpg', 'https://farm66.staticflickr.com/65535/52747997905_a0d42455ba.jpg', 'https://farm66.staticflickr.com/65535/52747042357_0bbd3c438d.jpg', 'https://farm66.staticflickr.com/65535/52747965135_c082cdfe39.jpg', 'https://farm66.staticflickr.com/65535/52747793914_702a80604a.jpg', 'https://farm66.staticflickr.com/65535/52747403566_bd0c71342e.jpg', 'https://farm66.staticflickr.com/65535/52747804410_86832fa0cd.jpg', 'https://farm66.staticflickr.com/65535/52746736967_8afefd7979.jpg', 'https://farm66.staticflickr.com/65535/52747760838_3c7ff17f9c.jpg', 'https://farm66.staticflickr.com/65535/52747509384_144ea0e376.jpg', 'https://farm66.staticflickr.com/65535/52747739173_4cf1a93391.jpg', 'https://farm5.staticflickr.com/4806/45397636485_bfa21970a9.jpg', 'https://farm66.staticflickr.com/65535/52746690387_95cae29c48.jpg', 'https://farm66.staticflickr.com/65535/52747626340_f224da1e05.jpg', 'https://farm66.staticflickr.com/65535/52747702193_9a625a3356.jpg', 'https://farm66.staticflickr.com/65535/52747200941_f9469d93d6.jpg', 'https://farm66.staticflickr.com/65535/52747616025_a467a2d899.jpg', 'https://farm66.staticflickr.com/65535/52746670437_01ba0fbb3e.jpg', 'https://farm66.staticflickr.com/65535/52746657597_09f84a9e2d.jpg', 'https://farm66.staticflickr.com/65535/52747430244_d13b211664.jpg', 'https://farm66.staticflickr.com/65535/52747417624_4df2d68c26.jpg']\n"
     ]
    }
   ],
   "source": [
    "from PIL import Image\n",
    "import flickrapi\n",
    "import requests\n",
    "\n",
    "# Replace with your own API key and secret\n",
    "api_key = '937c5fb63a6d88a2a148aec387c14272'\n",
    "api_secret = 'b21c82310caf7c0f'\n",
    "\n",
    "# Initialize the Flickr API client\n",
    "flickr = flickrapi.FlickrAPI(api_key, api_secret, format='parsed-json')\n",
    "\n",
    "# Use the 'flickr.photos.search' method to search for photos\n",
    "# Here, we're searching for photos tagged with 'cat'\n",
    "result = flickr.photos.search(tags='fashion')\n",
    "\n",
    "# Extract the URLs of the photos\n",
    "photo_urls = []\n",
    "for photo in result['photos']['photo']:\n",
    "    url = f\"https://farm{photo['farm']}.staticflickr.com/{photo['server']}/{photo['id']}_{photo['secret']}.jpg\"\n",
    "    photo_urls.append(url)\n",
    "\n",
    "# Print the list of URLs\n",
    "print(photo_urls)"
   ]
  },
  {
   "cell_type": "code",
   "execution_count": 4,
   "metadata": {},
   "outputs": [],
   "source": [
    "images = []\n",
    "urls = []\n",
    "\n",
    "for url in photo_urls:\n",
    "  try:\n",
    "    images.append(Image.open(requests.get(url, stream=True).raw))\n",
    "    urls.append(url)\n",
    "  except:\n",
    "    # print(f'{url} does not exist')\n",
    "    pass"
   ]
  },
  {
   "cell_type": "code",
   "execution_count": 5,
   "metadata": {},
   "outputs": [
    {
     "name": "stdout",
     "output_type": "stream",
     "text": [
      "torch.Size([100, 512])\n"
     ]
    }
   ],
   "source": [
    "import torch\n",
    "import clip\n",
    "from PIL import Image\n",
    "import requests\n",
    "from io import BytesIO\n",
    "import numpy as np\n",
    "from transformers import CLIPProcessor, CLIPModel\n",
    "\n",
    "# Get model\n",
    "device = \"cuda\" if torch.cuda.is_available() else \"cpu\"\n",
    "model, preprocess = clip.load(\"ViT-B/32\", device=device)\n",
    "\n",
    "# Download the images and preprocess them\n",
    "images = []\n",
    "for url in urls:\n",
    "    response = requests.get(url)\n",
    "    img = Image.open(BytesIO(response.content))\n",
    "    img = preprocess(img)\n",
    "    images.append(img)\n",
    "\n",
    "# Stack the preprocessed images into a batch\n",
    "batch = torch.stack(images)\n",
    "\n",
    "text = clip.tokenize([\"a diagram\", \"a dog\", \"a cat\"]).to(device)\n",
    "\n",
    "with torch.no_grad():\n",
    "    image_features = model.encode_image(batch)\n",
    "    text_features = model.encode_text(text)\n",
    "    \n",
    "    # Print the shape of the embeddings tensor\n",
    "    print(image_features.shape)\n",
    "\n",
    "    logits_per_image, logits_per_text = model(batch, text)\n",
    "    probs = logits_per_image.softmax(dim=-1).cpu().numpy()"
   ]
  },
  {
   "cell_type": "code",
   "execution_count": 6,
   "metadata": {},
   "outputs": [
    {
     "data": {
      "text/plain": [
       "'4.18.0'"
      ]
     },
     "execution_count": 6,
     "metadata": {},
     "output_type": "execute_result"
    }
   ],
   "source": [
    "import transformers\n",
    "\n",
    "transformers.__version__"
   ]
  },
  {
   "cell_type": "code",
   "execution_count": 7,
   "metadata": {},
   "outputs": [
    {
     "data": {
      "text/plain": [
       "(100, 100)"
      ]
     },
     "execution_count": 7,
     "metadata": {},
     "output_type": "execute_result"
    }
   ],
   "source": [
    "len(urls), len(images)"
   ]
  },
  {
   "cell_type": "markdown",
   "metadata": {},
   "source": [
    "# Elasticsearch"
   ]
  },
  {
   "cell_type": "code",
   "execution_count": 21,
   "metadata": {},
   "outputs": [],
   "source": [
    "%%capture\n",
    "\n",
    "%pip install elasticsearch==7.8.1\n",
    "%apt install default-jdk > /dev/null"
   ]
  },
  {
   "cell_type": "code",
   "execution_count": 22,
   "metadata": {},
   "outputs": [],
   "source": [
    "try:\n",
    "  import os\n",
    "  import elasticsearch\n",
    "  from elasticsearch import Elasticsearch\n",
    "  import numpy as np\n",
    "  import pandas as pd\n",
    "  import sys\n",
    "  import json\n",
    "  from ast import literal_eval\n",
    "  from tqdm import tqdm \n",
    "  import datetime\n",
    "  from elasticsearch import helpers\n",
    "  \n",
    "except Exception as e:\n",
    "  print(f\"error: {e}\")"
   ]
  },
  {
   "cell_type": "code",
   "execution_count": 53,
   "metadata": {},
   "outputs": [],
   "source": [
    "# # Download & extract Elasticsearch 7.0.0\n",
    "\n",
    "# !wget https://artifacts.elastic.co/downloads/elasticsearch/elasticsearch-7.8.1-linux-x86_64.tar.gz -q\n",
    "# !tar -xzf elasticsearch-7.8.1-linux-x86_64.tar.gz\n",
    "# !chown -R daemon:daemon elasticsearch-7.8.1"
   ]
  },
  {
   "cell_type": "code",
   "execution_count": 12,
   "metadata": {},
   "outputs": [],
   "source": [
    "import os\n",
    "from subprocess import Popen, PIPE, STDOUT\n",
    "\n",
    "es_server = Popen(['elasticsearch-7.8.1/bin/elasticsearch'], \n",
    "                  stdout=PIPE, stderr=STDOUT)"
   ]
  },
  {
   "cell_type": "code",
   "execution_count": 13,
   "metadata": {},
   "outputs": [],
   "source": [
    "# This part is important, since it takes a little amount of time for instance to load\n",
    "import time\n",
    "time.sleep(20)"
   ]
  },
  {
   "cell_type": "code",
   "execution_count": 14,
   "metadata": {},
   "outputs": [
    {
     "name": "stdout",
     "output_type": "stream",
     "text": [
      "  501 33817 33813   0  6:59   ??         0:00.00 grep elasticsearch\n",
      "  501 15867 15839   0 Mer10   ttys000    2:20.87 /Users/macbookpro/Downloads/elasticsearch-7.8.1/jdk.app/Contents/Home/bin/java -Xshare:auto -Des.networkaddress.cache.ttl=60 -Des.networkaddress.cache.negative.ttl=10 -XX:+AlwaysPreTouch -Xss1m -Djava.awt.headless=true -Dfile.encoding=UTF-8 -Djna.nosys=true -XX:-OmitStackTraceInFastThrow -XX:+ShowCodeDetailsInExceptionMessages -Dio.netty.noUnsafe=true -Dio.netty.noKeySetOptimization=true -Dio.netty.recycler.maxCapacityPerThread=0 -Dio.netty.allocator.numDirectArenas=0 -Dlog4j.shutdownHookEnabled=false -Dlog4j2.disable.jmx=true -Djava.locale.providers=SPI,COMPAT -Xms1g -Xmx1g -XX:+UseG1GC -XX:G1ReservePercent=25 -XX:InitiatingHeapOccupancyPercent=30 -Djava.io.tmpdir=/var/folders/9z/vxzd5t7x2vn4503l8w3td5pm0000gn/T/elasticsearch-16399522529622432788 -XX:+HeapDumpOnOutOfMemoryError -XX:HeapDumpPath=data -XX:ErrorFile=logs/hs_err_pid%p.log -Xlog:gc*,gc+age=trace,safepoint:file=logs/gc.log:utctime,pid,tags:filecount=32,filesize=64m -XX:MaxDirectMemorySize=536870912 -Des.path.home=/Users/macbookpro/Downloads/elasticsearch-7.8.1 -Des.path.conf=/Users/macbookpro/Downloads/elasticsearch-7.8.1/config -Des.distribution.flavor=default -Des.distribution.type=tar -Des.bundled_jdk=true -cp /Users/macbookpro/Downloads/elasticsearch-7.8.1/lib/* org.elasticsearch.bootstrap.Elasticsearch\n",
      "  501 15914 15867   0 Mer10   ttys000    0:00.03 /Users/macbookpro/Downloads/elasticsearch-7.8.1/modules/x-pack-ml/platform/darwin-x86_64/controller.app/Contents/MacOS/controller\n"
     ]
    }
   ],
   "source": [
    "%%bash\n",
    "# If you get 1 root & 2 daemon process then Elasticsearch instance has started successfully\n",
    "ps -ef | grep elasticsearch"
   ]
  },
  {
   "cell_type": "code",
   "execution_count": 15,
   "metadata": {},
   "outputs": [
    {
     "name": "stdout",
     "output_type": "stream",
     "text": [
      "Password:\n",
      "Password:\n"
     ]
    }
   ],
   "source": [
    "!sudo apt-get update && sudo apt-get install ufw\n",
    "!sudo ufw disable"
   ]
  },
  {
   "cell_type": "code",
   "execution_count": 23,
   "metadata": {},
   "outputs": [
    {
     "data": {
      "text/plain": [
       "True"
      ]
     },
     "execution_count": 23,
     "metadata": {},
     "output_type": "execute_result"
    }
   ],
   "source": [
    "es = Elasticsearch(hosts = [{\"host\":\"localhost\", \"port\":9200}])\n",
    "# Check if python is connected to elasticsearch\n",
    "es.ping()"
   ]
  },
  {
   "cell_type": "markdown",
   "metadata": {},
   "source": [
    "# CLIP Image Search"
   ]
  },
  {
   "cell_type": "code",
   "execution_count": 48,
   "metadata": {},
   "outputs": [],
   "source": [
    "INDEX_NAME = 'clip-fashion'\n",
    "VECTOR_DIMS = 512"
   ]
  },
  {
   "cell_type": "code",
   "execution_count": 49,
   "metadata": {},
   "outputs": [
    {
     "name": "stdout",
     "output_type": "stream",
     "text": [
      "Index exists!\n"
     ]
    }
   ],
   "source": [
    "# Delete index\n",
    "if es.indices.exists(index=INDEX_NAME):\n",
    "  print(\"Index exists!\")\n",
    "  es.indices.delete(index=INDEX_NAME, ignore=400)"
   ]
  },
  {
   "cell_type": "code",
   "execution_count": 50,
   "metadata": {},
   "outputs": [
    {
     "data": {
      "text/plain": [
       "{'acknowledged': True, 'shards_acknowledged': True, 'index': 'clip-fashion'}"
      ]
     },
     "execution_count": 50,
     "metadata": {},
     "output_type": "execute_result"
    }
   ],
   "source": [
    "# Create index\n",
    "settings = {\"settings\": {\"number_of_shards\": 2,\"number_of_replicas\": 1},\n",
    "            \"mappings\": {\"dynamic\": \"true\", \n",
    "                          \"_source\": {\"enabled\": \"true\"},\n",
    "                          \"properties\": {\"Image_name\": {\"type\": \"text\"},\n",
    "                                        \"Image_vector\": {\"type\": \"dense_vector\", \"dims\": VECTOR_DIMS}\n",
    "                                        }\n",
    "                        }\n",
    "            }\n",
    "\n",
    "\n",
    "es.indices.create(index=INDEX_NAME, ignore=400, body=settings)"
   ]
  },
  {
   "cell_type": "code",
   "execution_count": 51,
   "metadata": {},
   "outputs": [
    {
     "name": "stdout",
     "output_type": "stream",
     "text": [
      "dict_keys(['clip-fashion', 'patents-bert'])\n"
     ]
    }
   ],
   "source": [
    "# Retrieve the list of index names\n",
    "index_names = es.indices.get_alias(\"*\").keys()\n",
    "\n",
    "# Print the list of index names\n",
    "print(index_names)"
   ]
  },
  {
   "cell_type": "code",
   "execution_count": 52,
   "metadata": {},
   "outputs": [
    {
     "name": "stdout",
     "output_type": "stream",
     "text": [
      "https://farm66.staticflickr.com/65535/52754000013_038e7ceab5.jpg\n",
      "https://farm66.staticflickr.com/65535/52753807230_e7425d1646.jpg\n",
      "https://farm66.staticflickr.com/65535/52753620139_19f7ef09fd.jpg\n",
      "https://farm66.staticflickr.com/65535/52752835642_2bfe44e656.jpg\n",
      "https://farm66.staticflickr.com/65535/52753448389_b5981b7ed3.jpg\n",
      "https://farm66.staticflickr.com/65535/52753597448_3774815deb.jpg\n",
      "https://farm66.staticflickr.com/65535/52752542027_dc0430820e.jpg\n",
      "https://farm66.staticflickr.com/65535/52753403785_3fb67fa67e.jpg\n",
      "https://farm66.staticflickr.com/65535/52752442272_2251c44952.jpg\n",
      "https://farm66.staticflickr.com/65535/52753464808_a2790440e9.jpg\n",
      "https://farm66.staticflickr.com/65535/52753239640_c221fd73c0.jpg\n",
      "https://farm66.staticflickr.com/65535/52752782376_6e92e1c26f.jpg\n",
      "https://farm66.staticflickr.com/65535/52753099578_3b6036f206.jpg\n",
      "https://farm66.staticflickr.com/65535/52752488601_1e6867d911.jpg\n",
      "https://farm66.staticflickr.com/65535/52752703270_8cf9608d0a.jpg\n",
      "https://farm66.staticflickr.com/65535/52752530629_b5e01aced8.jpg\n",
      "https://farm66.staticflickr.com/65535/52752255906_bc801b0975.jpg\n",
      "https://farm66.staticflickr.com/65535/52752443929_7ca693c035.jpg\n",
      "https://farm66.staticflickr.com/65535/52751627287_3856770ce4.jpg\n",
      "https://farm66.staticflickr.com/65535/52752544555_cd771f5d23.jpg\n",
      "https://farm66.staticflickr.com/65535/52751546237_1a9d4f3fc6.jpg\n",
      "https://farm66.staticflickr.com/65535/52752591878_44e2810cf6.jpg\n",
      "https://farm66.staticflickr.com/65535/52751636801_2734257056.jpg\n",
      "https://farm66.staticflickr.com/65535/52751615346_59a1daecf4.jpg\n",
      "https://farm66.staticflickr.com/65535/52752091888_c3441d596c.jpg\n",
      "https://farm66.staticflickr.com/65535/52751812334_f499e88030.jpg\n",
      "https://farm66.staticflickr.com/65535/52751810759_c6d0510f4f.jpg\n",
      "https://farm66.staticflickr.com/65535/52751798519_4ab2cc3ce0.jpg\n",
      "https://farm66.staticflickr.com/65535/52751019877_0e9a776a8a.jpg\n",
      "https://farm66.staticflickr.com/65535/52752041973_46110d3e5d.jpg\n",
      "https://farm66.staticflickr.com/65535/52752038643_2901fe4270.jpg\n",
      "https://farm66.staticflickr.com/65535/52751544776_84c12bd126.jpg\n",
      "https://farm66.staticflickr.com/65535/52752033508_bb54b4c5e9.jpg\n",
      "https://farm66.staticflickr.com/65535/52751778829_3dbdec4b45.jpg\n",
      "https://farm66.staticflickr.com/65535/52752025488_34a2e1bb74.jpg\n",
      "https://farm66.staticflickr.com/65535/52751943665_573960288d.jpg\n",
      "https://farm66.staticflickr.com/65535/52751001472_9ae99edf19.jpg\n",
      "https://farm66.staticflickr.com/65535/52750918047_969ff5d9ac.jpg\n",
      "https://farm66.staticflickr.com/65535/52750838537_d28699e3af.jpg\n",
      "https://farm66.staticflickr.com/65535/52751492994_125dc2deaf.jpg\n",
      "https://farm66.staticflickr.com/65535/52751745833_de643993ee.jpg\n",
      "https://farm66.staticflickr.com/65535/52751741618_fb8aa7301c.jpg\n",
      "https://farm66.staticflickr.com/65535/52750720861_a2577bdf81.jpg\n",
      "https://farm66.staticflickr.com/65535/52751211183_6cdae6f1fc.jpg\n",
      "https://farm66.staticflickr.com/65535/52750649951_26c00ecdc8.jpg\n",
      "https://farm66.staticflickr.com/65535/52750503421_eee25a4420.jpg\n",
      "https://farm66.staticflickr.com/65535/52697531911_f97787b745.jpg\n",
      "https://farm66.staticflickr.com/65535/52750663118_7e1b1ecd1f.jpg\n",
      "https://farm66.staticflickr.com/65535/52750364600_011b25c019.jpg\n",
      "https://farm66.staticflickr.com/65535/52750213805_533b0f6649.jpg\n",
      "https://farm66.staticflickr.com/65535/52750213393_084d4d4463.jpg\n",
      "https://farm66.staticflickr.com/65535/52749178732_385ff27c5d.jpg\n",
      "https://farm66.staticflickr.com/65535/52749619679_2654f25b15.jpg\n",
      "https://farm66.staticflickr.com/65535/52749829723_2028e8bd7e.jpg\n",
      "https://farm66.staticflickr.com/65535/52749305686_a078d725bf.jpg\n",
      "https://farm66.staticflickr.com/65535/52749616073_99f1017bc8.jpg\n",
      "https://farm66.staticflickr.com/65535/52748564842_6eb889306b.jpg\n",
      "https://farm66.staticflickr.com/65535/52749093726_f9ca408018.jpg\n",
      "https://farm66.staticflickr.com/65535/52749186849_dfd04f4236.jpg\n",
      "https://farm66.staticflickr.com/65535/52749267923_732b48f57f.jpg\n",
      "https://farm66.staticflickr.com/65535/52749183810_986792b085.jpg\n",
      "https://farm66.staticflickr.com/65535/52748679456_00f3a5884b.jpg\n",
      "https://farm66.staticflickr.com/65535/52748929958_d58905287a.jpg\n",
      "https://farm66.staticflickr.com/65535/52747904617_1610867bda.jpg\n",
      "https://farm66.staticflickr.com/65535/52747905847_dcb0c99483.jpg\n",
      "https://farm66.staticflickr.com/65535/52748347751_f6ea89f50e.jpg\n",
      "https://farm66.staticflickr.com/65535/52747663427_71d2f6020b.jpg\n",
      "https://farm66.staticflickr.com/65535/52748511030_3080aaecbe.jpg\n",
      "https://farm66.staticflickr.com/65535/52748510755_79e38ca751.jpg\n",
      "https://farm66.staticflickr.com/65535/52748562728_7abbc6a372.jpg\n",
      "https://farm66.staticflickr.com/65535/52748240089_832113a727.jpg\n",
      "https://farm66.staticflickr.com/65535/52748236689_349a0b5024.jpg\n",
      "https://farm66.staticflickr.com/65535/52747989541_09024f6506.jpg\n",
      "https://farm66.staticflickr.com/65535/52748182709_16a9678617.jpg\n",
      "https://farm66.staticflickr.com/65535/52747920761_897a98a259.jpg\n",
      "https://farm66.staticflickr.com/65535/52748165544_cfeaa4aa1c.jpg\n",
      "https://farm66.staticflickr.com/65535/52747964909_bb9f51030f.jpg\n",
      "https://farm66.staticflickr.com/65535/52747947744_26b50cf319.jpg\n",
      "https://farm66.staticflickr.com/65535/52747869989_1fbd70189b.jpg\n",
      "https://farm66.staticflickr.com/65535/52747619651_83435636e7.jpg\n",
      "https://farm66.staticflickr.com/65535/52747997905_a0d42455ba.jpg\n",
      "https://farm66.staticflickr.com/65535/52747042357_0bbd3c438d.jpg\n",
      "https://farm66.staticflickr.com/65535/52747965135_c082cdfe39.jpg\n",
      "https://farm66.staticflickr.com/65535/52747793914_702a80604a.jpg\n",
      "https://farm66.staticflickr.com/65535/52747403566_bd0c71342e.jpg\n",
      "https://farm66.staticflickr.com/65535/52747804410_86832fa0cd.jpg\n",
      "https://farm66.staticflickr.com/65535/52746736967_8afefd7979.jpg\n",
      "https://farm66.staticflickr.com/65535/52747760838_3c7ff17f9c.jpg\n",
      "https://farm66.staticflickr.com/65535/52747509384_144ea0e376.jpg\n",
      "https://farm66.staticflickr.com/65535/52747739173_4cf1a93391.jpg\n",
      "https://farm5.staticflickr.com/4806/45397636485_bfa21970a9.jpg\n",
      "https://farm66.staticflickr.com/65535/52746690387_95cae29c48.jpg\n",
      "https://farm66.staticflickr.com/65535/52747626340_f224da1e05.jpg\n",
      "https://farm66.staticflickr.com/65535/52747702193_9a625a3356.jpg\n",
      "https://farm66.staticflickr.com/65535/52747200941_f9469d93d6.jpg\n",
      "https://farm66.staticflickr.com/65535/52747616025_a467a2d899.jpg\n",
      "https://farm66.staticflickr.com/65535/52746670437_01ba0fbb3e.jpg\n",
      "https://farm66.staticflickr.com/65535/52746657597_09f84a9e2d.jpg\n",
      "https://farm66.staticflickr.com/65535/52747430244_d13b211664.jpg\n",
      "https://farm66.staticflickr.com/65535/52747417624_4df2d68c26.jpg\n"
     ]
    }
   ],
   "source": [
    "# Add image vectors to Elasticsearch\n",
    "def add_image_vec(es, url):\n",
    "    image = preprocess(Image.open(requests.get(url, stream=True).raw)).unsqueeze(0).to(device)\n",
    "\n",
    "    with torch.no_grad():\n",
    "        image_vector = model.encode_image(image)\n",
    "\n",
    "    doc = {\n",
    "        \"Image_name\": url,\n",
    "        \"Image_vector\": np.array(image_vector.squeeze().tolist())   # convert tensor to numpy array\n",
    "    }\n",
    "\n",
    "    res = es.index(index=INDEX_NAME, body=doc)\n",
    "\n",
    "# for url in urls:\n",
    "#     print(url)\n",
    "#     add_image_vec(es, url=url)\n",
    "#     time.sleep(1.0)  # Add a delay of 0.5 seconds between requests\n",
    "# gives error\n",
    "\n",
    "# Process image URLs in batches\n",
    "# One approach you can try is to use a Python queue to manage the image URLs and process them in batches, \n",
    "# with a delay between each batch to avoid overwhelming the Elasticsearch cluster\n",
    "# by ChatGPT\n",
    "import queue\n",
    "\n",
    "# Define queue for image URLs\n",
    "url_queue = queue.Queue()\n",
    "\n",
    "# Add image URLs to queue\n",
    "for url in urls:\n",
    "    url_queue.put(url)\n",
    "\n",
    "# Process image URLs in batches\n",
    "batch_size = 5\n",
    "while not url_queue.empty():\n",
    "    # Get batch of image URLs from queue\n",
    "    batch = []\n",
    "    for i in range(batch_size):\n",
    "        if not url_queue.empty():\n",
    "            batch.append(url_queue.get())\n",
    "    \n",
    "    # Process batch of image URLs\n",
    "    for url in batch:\n",
    "        print(url)\n",
    "        add_image_vec(es, url=url)\n",
    "    \n",
    "    # Add a delay between batches\n",
    "    time.sleep(2.0)\n"
   ]
  },
  {
   "cell_type": "code",
   "execution_count": 59,
   "metadata": {},
   "outputs": [
    {
     "data": {
      "text/plain": [
       "tensor([ 9.1801e-02,  1.4127e-01,  2.0235e-01,  1.1216e-01,  4.4385e-02,\n",
       "        -3.1847e-01,  8.1563e-02, -8.4541e-01,  7.8579e-02,  2.5362e-01,\n",
       "        -5.9045e-02,  1.1031e-01, -3.1031e-01, -5.3443e-02, -2.1382e-01,\n",
       "        -2.2913e-02,  4.1694e-01,  1.4623e-01, -3.5519e-02, -1.8012e-01,\n",
       "         3.4681e-01,  1.9302e-01,  2.2985e-01, -4.4258e-03, -7.7956e-02,\n",
       "         1.9763e-02, -1.2042e-01,  4.4946e-02, -1.2162e-01, -9.4748e-03,\n",
       "         2.6209e-01, -2.4862e-01,  1.5789e-02,  9.1825e-03,  5.3633e-01,\n",
       "         2.0002e-01,  6.5814e-02, -8.2335e-02,  6.5740e-03,  2.4167e-01,\n",
       "        -3.1834e-01,  1.2122e-01, -1.6003e-01, -5.8853e-02,  1.6617e-01,\n",
       "         6.8026e-01,  6.6621e-02,  2.7155e-01, -8.1397e-02, -1.2305e-01,\n",
       "         3.6040e-01,  7.2553e-02,  1.3301e-01, -3.9426e-01, -2.1863e-01,\n",
       "        -1.5800e-01, -1.3766e-01,  2.1554e-01, -2.0010e-01,  6.0471e-02,\n",
       "         6.2414e-01,  1.1377e-01,  8.3775e-02, -2.8244e-02,  7.7618e-02,\n",
       "        -1.1912e-01, -3.5439e-02,  3.7482e-01, -2.3644e-01, -5.4249e-02,\n",
       "        -5.0460e-02,  1.9306e-01,  8.0288e-02, -3.0764e-02,  2.1557e-01,\n",
       "         6.7482e-02, -3.0502e-02,  2.7439e-02,  2.6680e-01, -9.9452e-02,\n",
       "        -2.2429e-01, -1.6229e-01, -3.2671e-02,  3.4630e-01,  1.5953e-01,\n",
       "         7.5074e-02, -1.5323e-01, -1.8082e-01,  9.4459e-02,  3.9975e-02,\n",
       "         1.2359e-01,  6.6201e-02, -1.7972e+00, -3.7804e-01,  4.6522e-01,\n",
       "         2.1818e-01, -7.4016e-02, -1.0387e-01,  5.5097e-01,  1.7473e-01,\n",
       "         2.6349e-01,  2.1139e-01,  2.5747e-01,  3.4724e-01, -3.7996e-01,\n",
       "         8.2433e-02,  9.1838e-02,  2.3207e-02, -2.2795e-01, -2.1983e-01,\n",
       "         1.3257e-01,  1.0508e+00,  2.8787e-01,  1.2636e-01, -2.1943e-01,\n",
       "        -1.3607e-01,  5.0010e-02,  1.7781e-01, -1.5513e-02, -5.9416e-02,\n",
       "         2.9106e-01, -3.8682e-01,  5.1054e-02, -8.1407e-02, -2.1533e-01,\n",
       "        -2.2128e-01, -1.2781e-01,  1.7337e-01,  2.0306e-01,  4.6487e-01,\n",
       "         4.5367e-01, -1.6761e-02, -1.5433e-01,  7.7774e+00, -7.6140e-02,\n",
       "         1.2866e-02, -1.7573e-01, -2.0659e-01, -3.0673e-02,  1.9646e-01,\n",
       "        -2.6832e-02, -2.4572e-01, -1.3146e-01,  1.4836e-01, -2.5751e-01,\n",
       "         8.4340e-02, -3.5918e-03,  5.3068e-02, -3.2667e-01, -1.1243e-01,\n",
       "         2.5242e-01,  8.0683e-02,  1.7755e-01,  1.5050e-01, -7.9558e-02,\n",
       "         4.6565e-03, -4.7885e-02, -5.1556e-02, -1.6516e-01,  1.8950e-01,\n",
       "        -1.9429e-01,  8.3178e-02,  4.0833e-02, -3.2661e-01,  1.3586e-01,\n",
       "         8.9384e-02,  2.0168e-01, -8.6291e-02,  8.3014e-02, -2.0249e-01,\n",
       "         1.6335e-01, -1.5953e-01,  3.5134e-05,  6.5989e-02, -5.8791e-02,\n",
       "         1.6687e-01, -1.4773e-02, -2.8058e-01,  3.1210e-02,  1.9887e-03,\n",
       "         4.7329e-01,  3.1414e-01,  2.0199e-01, -2.2847e-02, -1.0963e-02,\n",
       "         5.1472e-02,  7.2591e-02, -2.6011e-01,  9.8002e-02, -1.9060e-02,\n",
       "         2.4673e-01, -2.9858e-01, -4.6604e-01, -1.3365e-01, -1.6998e-01,\n",
       "         1.8936e-01,  1.2865e-01,  1.0123e-01, -5.5131e-03, -2.0856e-01,\n",
       "        -1.8657e-01, -1.8066e-01,  8.8728e-02,  2.1933e-01, -2.1196e-01,\n",
       "        -1.8870e-01, -1.2260e-01, -1.7562e-01,  1.5089e-01,  4.7812e-02,\n",
       "        -1.3943e-01,  4.6710e-02,  1.0632e-02,  3.0435e-01, -6.6013e-02,\n",
       "        -2.2542e-01, -3.5469e-03,  5.8285e-02,  1.2373e-02, -1.7652e-01,\n",
       "        -2.1914e-01, -1.9578e-01, -2.4590e-01, -3.9445e-02, -2.0758e-02,\n",
       "         3.7914e-02, -1.1533e-01,  2.0719e-01, -1.7080e-01,  4.9330e-02,\n",
       "        -3.0249e-03,  1.3936e-01,  1.7718e-01, -1.6491e-01,  1.5872e-01,\n",
       "         2.9545e-01,  2.4613e-01, -8.6126e-02, -7.1685e-02, -2.3571e-01,\n",
       "        -1.6123e-01,  1.5708e-01, -4.5134e-02,  3.3979e-01, -2.2997e-01,\n",
       "        -3.3963e-01, -9.1741e-02, -2.2720e-01, -4.9464e-03,  7.9574e-02,\n",
       "         2.4166e-01,  1.5298e-01,  7.8170e-02,  3.7227e-02, -1.6003e-01,\n",
       "         2.1193e-01,  1.5644e-01, -3.7973e-01, -3.2932e-01,  1.0894e-01,\n",
       "        -5.4847e-02, -9.8395e-02,  1.1454e-01, -3.2868e-01,  2.0750e-01,\n",
       "         7.5364e-02,  2.0649e-01, -3.0894e-01,  1.4251e-01,  3.0025e-02,\n",
       "         1.6301e-01, -1.3413e-01,  5.4857e-02, -1.5177e-01, -6.2690e-02,\n",
       "        -3.4256e-01,  2.3159e-01, -2.3033e-02,  4.0254e-02, -1.0964e-01,\n",
       "         1.3493e-02,  3.6505e-02,  5.5482e-01,  1.4301e-01, -1.1829e-01,\n",
       "         6.3976e-03, -2.9529e-02,  8.6427e-02, -1.6550e-01, -1.3428e-01,\n",
       "         1.3990e-01, -2.2959e-01,  7.4974e-02,  1.9080e-01, -2.3526e-01,\n",
       "        -3.0496e-01, -1.2608e-02, -1.8882e-02,  6.7066e-02, -3.0200e-01,\n",
       "         9.1394e-02,  6.6393e-02, -2.2154e-02,  5.6549e-02, -2.7848e-01,\n",
       "        -4.2483e-01, -2.2241e-01, -2.8520e-01,  2.1389e-01,  2.6666e-02,\n",
       "        -2.0248e-01, -9.0882e-02,  7.7681e+00,  1.6847e-01,  2.2985e-02,\n",
       "         3.4107e-01, -2.0479e-01,  4.6745e-02,  3.2578e-01,  1.3042e-01,\n",
       "         7.3889e-02,  5.9446e-02,  3.5212e-03,  3.6713e-01,  1.8499e-01,\n",
       "         1.7624e-01, -2.0679e-01,  6.7486e-02, -2.1052e-01, -2.7379e+00,\n",
       "        -1.1764e-01,  1.4726e-01, -2.5510e-02, -3.3398e-01,  5.5519e-02,\n",
       "         2.9126e-02, -2.7138e-01,  4.1861e-01, -5.9438e-02,  1.3714e-01,\n",
       "        -2.1321e-02, -6.8035e-02, -3.8472e-01, -1.3699e-01,  1.5412e-01,\n",
       "        -1.2875e-01, -1.2494e-01,  2.9530e-01, -8.8771e-02,  2.3718e-01,\n",
       "         5.9891e-02,  1.2981e-01,  2.3582e-01, -2.2698e-02,  1.7730e-01,\n",
       "         6.2271e-01, -9.2707e-03, -4.2069e-01, -2.1981e-02,  1.1210e-02,\n",
       "        -1.2629e-01, -1.3248e-01, -2.2727e-01,  1.3327e-01,  6.4820e-01,\n",
       "         6.4009e-02,  1.0178e-01,  2.3156e-01, -1.9074e-03, -1.6404e-01,\n",
       "        -1.1514e-01, -3.0245e-02,  9.9239e-02, -3.5243e-02, -1.5876e-01,\n",
       "         1.9275e-01, -1.8384e-01,  2.3164e-02, -3.3004e-01,  1.0460e-01,\n",
       "        -1.3944e-01, -1.4000e-02, -5.8431e-02, -1.7923e-01, -1.4588e-01,\n",
       "        -2.3890e-01,  3.5143e-01, -2.1807e-01, -1.0910e-01,  4.3086e-02,\n",
       "         3.9429e-01,  4.0785e-03,  5.9931e-02, -1.1159e-01, -1.0507e-01,\n",
       "         1.4555e-01, -1.6899e-01,  1.3391e-01, -4.5779e-03,  5.6346e-01,\n",
       "        -2.9128e-01, -2.0460e-02,  1.7944e-01, -6.0813e-02, -1.8923e-01,\n",
       "         7.2996e-02,  1.5947e-01, -1.9803e-01,  4.7262e-02,  1.4730e-01,\n",
       "         3.5115e-01,  1.2311e-01, -2.0434e-01,  2.8119e-01,  6.0295e-02,\n",
       "        -1.4965e-02, -1.8634e-01,  3.6898e-02, -7.2805e-02, -5.5553e-02,\n",
       "        -1.0383e-01,  3.5383e-01, -2.7599e-01, -4.8600e-02, -1.6839e-01,\n",
       "         1.3730e-01,  1.8334e-01, -5.4582e-02, -3.3698e-03,  1.0442e-01,\n",
       "        -1.4227e-01, -6.2446e-02, -1.2767e-01, -1.2625e-01, -6.1768e-02,\n",
       "         2.6783e-01, -7.3700e-03, -1.7348e-01, -2.5348e-01, -1.9678e-01,\n",
       "        -4.4947e-02,  3.2339e-01, -2.8137e-01, -1.0590e-02,  1.2294e-01,\n",
       "         1.3011e-01, -5.3007e-01, -2.4963e-01,  5.6263e-02,  9.0024e-02,\n",
       "        -6.9562e-01,  1.8357e-01, -4.2753e-02,  9.9887e-02, -1.7291e-01,\n",
       "        -1.1183e-01,  1.1881e-01,  1.5682e-01, -2.5806e-01, -2.2740e-01,\n",
       "         2.6793e-01, -1.8281e-01, -1.7492e-01,  1.8724e-01,  3.2336e-01,\n",
       "        -1.5439e-01,  6.3875e-02,  2.0378e-01, -1.0774e-01,  1.0670e-01,\n",
       "         2.3203e-01,  3.4534e-03,  1.2935e-01, -5.2114e-01, -3.5569e-01,\n",
       "         4.1385e-02,  1.5454e-01,  1.9317e-01,  7.5364e-02,  1.1322e-01,\n",
       "         9.7761e-02, -9.5544e-01, -5.1416e-03,  6.0519e-02, -3.6725e-01,\n",
       "        -1.7937e-01,  3.1277e-01,  1.3810e-01, -5.2809e-02,  2.6414e-02,\n",
       "        -3.1906e-01,  1.8173e-01, -3.3529e-02,  6.9492e-01, -9.8476e-02,\n",
       "        -3.6148e-02, -1.9301e-01, -3.0796e-01,  1.3778e-02,  2.8253e-02,\n",
       "        -1.1103e-01, -6.1582e-02,  5.8422e-02,  3.7740e-01,  5.3958e-02,\n",
       "        -1.1579e-01, -9.4604e-02, -1.1851e-01,  3.2169e-02, -9.1164e-01,\n",
       "        -4.2372e-02,  7.2498e-02], grad_fn=<SelectBackward>)"
      ]
     },
     "execution_count": 59,
     "metadata": {},
     "output_type": "execute_result"
    }
   ],
   "source": [
    "model.encode_text(text)[0]"
   ]
  },
  {
   "cell_type": "code",
   "execution_count": 60,
   "metadata": {},
   "outputs": [],
   "source": [
    "# # search for all documents in my_index\n",
    "# res = es.search(index=INDEX_NAME, body={'query': {'match_all': {}}})\n",
    "\n",
    "# # print the documents\n",
    "# for hit in res['hits']['hits']:\n",
    "#     print(hit['_source'])"
   ]
  },
  {
   "cell_type": "code",
   "execution_count": 55,
   "metadata": {},
   "outputs": [
    {
     "name": "stdout",
     "output_type": "stream",
     "text": [
      "{'_shards': {'failed': 0, 'skipped': 0, 'successful': 2, 'total': 2},\n",
      " 'hits': {'hits': [{'_id': '2xrU8IYBLuR2OwZMMxbz',\n",
      "                    '_index': 'clip-fashion',\n",
      "                    '_score': 0.25530815,\n",
      "                    '_source': {'Image_name': 'https://farm66.staticflickr.com/65535/52751001472_9ae99edf19.jpg'},\n",
      "                    '_type': '_doc'},\n",
      "                   {'_id': '3hrU8IYBLuR2OwZMOBZC',\n",
      "                    '_index': 'clip-fashion',\n",
      "                    '_score': 0.24556361,\n",
      "                    '_source': {'Image_name': 'https://farm66.staticflickr.com/65535/52751492994_125dc2deaf.jpg'},\n",
      "                    '_type': '_doc'},\n",
      "                   {'_id': 'wBrT8IYBLuR2OwZM6hYQ',\n",
      "                    '_index': 'clip-fashion',\n",
      "                    '_score': 0.24017404,\n",
      "                    '_source': {'Image_name': 'https://farm66.staticflickr.com/65535/52753464808_a2790440e9.jpg'},\n",
      "                    '_type': '_doc'},\n",
      "                   {'_id': '5xrU8IYBLuR2OwZMUBZZ',\n",
      "                    '_index': 'clip-fashion',\n",
      "                    '_score': 0.2370247,\n",
      "                    '_source': {'Image_name': 'https://farm66.staticflickr.com/65535/52750364600_011b25c019.jpg'},\n",
      "                    '_type': '_doc'},\n",
      "                   {'_id': '7BrU8IYBLuR2OwZMXBbi',\n",
      "                    '_index': 'clip-fashion',\n",
      "                    '_score': 0.22449076,\n",
      "                    '_source': {'Image_name': 'https://farm66.staticflickr.com/65535/52749829723_2028e8bd7e.jpg'},\n",
      "                    '_type': '_doc'},\n",
      "                   {'_id': 'xxrU8IYBLuR2OwZMABZX',\n",
      "                    '_index': 'clip-fashion',\n",
      "                    '_score': 0.21911487,\n",
      "                    '_source': {'Image_name': 'https://farm66.staticflickr.com/65535/52752255906_bc801b0975.jpg'},\n",
      "                    '_type': '_doc'},\n",
      "                   {'_id': '8hrU8IYBLuR2OwZMahZD',\n",
      "                    '_index': 'clip-fashion',\n",
      "                    '_score': 0.21844459,\n",
      "                    '_source': {'Image_name': 'https://farm66.staticflickr.com/65535/52749267923_732b48f57f.jpg'},\n",
      "                    '_type': '_doc'},\n",
      "                   {'_id': 'whrT8IYBLuR2OwZM8xa4',\n",
      "                    '_index': 'clip-fashion',\n",
      "                    '_score': 0.21760213,\n",
      "                    '_source': {'Image_name': 'https://farm66.staticflickr.com/65535/52752782376_6e92e1c26f.jpg'},\n",
      "                    '_type': '_doc'},\n",
      "                   {'_id': '1RrU8IYBLuR2OwZMJRZ6',\n",
      "                    '_index': 'clip-fashion',\n",
      "                    '_score': 0.215963,\n",
      "                    '_source': {'Image_name': 'https://farm66.staticflickr.com/65535/52752038643_2901fe4270.jpg'},\n",
      "                    '_type': '_doc'},\n",
      "                   {'_id': 'GRrU8IYBLuR2OwZM0RdK',\n",
      "                    '_index': 'clip-fashion',\n",
      "                    '_score': 0.20831496,\n",
      "                    '_source': {'Image_name': 'https://farm66.staticflickr.com/65535/52747430244_d13b211664.jpg'},\n",
      "                    '_type': '_doc'}],\n",
      "          'max_score': 0.25530815,\n",
      "          'total': {'relation': 'eq', 'value': 100}},\n",
      " 'timed_out': False,\n",
      " 'took': 85}\n"
     ]
    },
    {
     "name": "stderr",
     "output_type": "stream",
     "text": [
      "/Users/macbookpro/opt/anaconda3/envs/tf2/lib/python3.6/site-packages/elasticsearch/connection/base.py:177: ElasticsearchDeprecationWarning: The vector functions of the form function(query, doc['field']) are deprecated, and the form function(query, 'field') should be used instead. For example, cosineSimilarity(query, doc['field']) is replaced by cosineSimilarity(query, 'field').\n",
      "  warnings.warn(message, category=ElasticsearchDeprecationWarning)\n"
     ]
    }
   ],
   "source": [
    "# Query a description\n",
    "import pprint\n",
    "\n",
    "text = clip.tokenize(\"a man\").to(device)\n",
    "\n",
    "with torch.no_grad():\n",
    "    User_Query_Vector = model.encode_text(text)\n",
    "\n",
    "    script_query = {\"script_score\": {\"query\": {\"match_all\": {}},\n",
    "                                    \"script\": {\"source\": \"cosineSimilarity(params.query_vector, doc['Image_vector']) \",\n",
    "                                              \"params\": {\"query_vector\": np.array(User_Query_Vector.squeeze().tolist()) }\n",
    "                                              }\n",
    "                                  }\n",
    "                  }\n",
    "\n",
    "    response = es.search(index=INDEX_NAME,body={\"size\": 10, \"query\": script_query,\n",
    "                                                    \"_source\": {\"includes\": [\"Image_name\"]}\n",
    "                                                    }\n",
    "                            )\n",
    "\n",
    "\n",
    "    pprint.pprint(response)"
   ]
  },
  {
   "cell_type": "code",
   "execution_count": 56,
   "metadata": {},
   "outputs": [
    {
     "name": "stdout",
     "output_type": "stream",
     "text": [
      "Your public IP address is: 77.129.211.10\n"
     ]
    }
   ],
   "source": [
    "import requests\n",
    "\n",
    "response = requests.get(\"http://ipecho.net/plain\")\n",
    "public_ip = response.text\n",
    "print(\"Your public IP address is:\", public_ip)\n",
    "?"
   ]
  },
  {
   "cell_type": "code",
   "execution_count": null,
   "metadata": {},
   "outputs": [],
   "source": []
  }
 ],
 "metadata": {
  "kernelspec": {
   "display_name": "tf2",
   "language": "python",
   "name": "tf2"
  },
  "language_info": {
   "codemirror_mode": {
    "name": "ipython",
    "version": 3
   },
   "file_extension": ".py",
   "mimetype": "text/x-python",
   "name": "python",
   "nbconvert_exporter": "python",
   "pygments_lexer": "ipython3",
   "version": "3.6.10"
  }
 },
 "nbformat": 4,
 "nbformat_minor": 5
}
