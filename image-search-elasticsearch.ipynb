{
 "cells": [
  {
   "cell_type": "markdown",
   "metadata": {},
   "source": [
    "# Download Images"
   ]
  },
  {
   "cell_type": "code",
   "execution_count": 3,
   "metadata": {},
   "outputs": [
    {
     "name": "stdout",
     "output_type": "stream",
     "text": [
      "['https://farm66.staticflickr.com/65535/52754000013_038e7ceab5.jpg', 'https://farm66.staticflickr.com/65535/52753807230_e7425d1646.jpg', 'https://farm66.staticflickr.com/65535/52753620139_19f7ef09fd.jpg', 'https://farm66.staticflickr.com/65535/52752835642_2bfe44e656.jpg', 'https://farm66.staticflickr.com/65535/52753448389_b5981b7ed3.jpg', 'https://farm66.staticflickr.com/65535/52753597448_3774815deb.jpg', 'https://farm66.staticflickr.com/65535/52752542027_dc0430820e.jpg', 'https://farm66.staticflickr.com/65535/52753403785_3fb67fa67e.jpg', 'https://farm66.staticflickr.com/65535/52752442272_2251c44952.jpg', 'https://farm66.staticflickr.com/65535/52753464808_a2790440e9.jpg', 'https://farm66.staticflickr.com/65535/52753239640_c221fd73c0.jpg', 'https://farm66.staticflickr.com/65535/52752782376_6e92e1c26f.jpg', 'https://farm66.staticflickr.com/65535/52753099578_3b6036f206.jpg', 'https://farm66.staticflickr.com/65535/52752488601_1e6867d911.jpg', 'https://farm66.staticflickr.com/65535/52752703270_8cf9608d0a.jpg', 'https://farm66.staticflickr.com/65535/52752530629_b5e01aced8.jpg', 'https://farm66.staticflickr.com/65535/52752255906_bc801b0975.jpg', 'https://farm66.staticflickr.com/65535/52752443929_7ca693c035.jpg', 'https://farm66.staticflickr.com/65535/52751627287_3856770ce4.jpg', 'https://farm66.staticflickr.com/65535/52752544555_cd771f5d23.jpg', 'https://farm66.staticflickr.com/65535/52751546237_1a9d4f3fc6.jpg', 'https://farm66.staticflickr.com/65535/52752591878_44e2810cf6.jpg', 'https://farm66.staticflickr.com/65535/52751636801_2734257056.jpg', 'https://farm66.staticflickr.com/65535/52751615346_59a1daecf4.jpg', 'https://farm66.staticflickr.com/65535/52752091888_c3441d596c.jpg', 'https://farm66.staticflickr.com/65535/52751812334_f499e88030.jpg', 'https://farm66.staticflickr.com/65535/52751810759_c6d0510f4f.jpg', 'https://farm66.staticflickr.com/65535/52751798519_4ab2cc3ce0.jpg', 'https://farm66.staticflickr.com/65535/52751019877_0e9a776a8a.jpg', 'https://farm66.staticflickr.com/65535/52752041973_46110d3e5d.jpg', 'https://farm66.staticflickr.com/65535/52752038643_2901fe4270.jpg', 'https://farm66.staticflickr.com/65535/52751544776_84c12bd126.jpg', 'https://farm66.staticflickr.com/65535/52752033508_bb54b4c5e9.jpg', 'https://farm66.staticflickr.com/65535/52751778829_3dbdec4b45.jpg', 'https://farm66.staticflickr.com/65535/52752025488_34a2e1bb74.jpg', 'https://farm66.staticflickr.com/65535/52751943665_573960288d.jpg', 'https://farm66.staticflickr.com/65535/52751001472_9ae99edf19.jpg', 'https://farm66.staticflickr.com/65535/52750918047_969ff5d9ac.jpg', 'https://farm66.staticflickr.com/65535/52750838537_d28699e3af.jpg', 'https://farm66.staticflickr.com/65535/52751492994_125dc2deaf.jpg', 'https://farm66.staticflickr.com/65535/52751745833_de643993ee.jpg', 'https://farm66.staticflickr.com/65535/52751741618_fb8aa7301c.jpg', 'https://farm66.staticflickr.com/65535/52750720861_a2577bdf81.jpg', 'https://farm66.staticflickr.com/65535/52751211183_6cdae6f1fc.jpg', 'https://farm66.staticflickr.com/65535/52750649951_26c00ecdc8.jpg', 'https://farm66.staticflickr.com/65535/52750503421_eee25a4420.jpg', 'https://farm66.staticflickr.com/65535/52697531911_f97787b745.jpg', 'https://farm66.staticflickr.com/65535/52750663118_7e1b1ecd1f.jpg', 'https://farm66.staticflickr.com/65535/52750364600_011b25c019.jpg', 'https://farm66.staticflickr.com/65535/52750213805_533b0f6649.jpg', 'https://farm66.staticflickr.com/65535/52750213393_084d4d4463.jpg', 'https://farm66.staticflickr.com/65535/52749178732_385ff27c5d.jpg', 'https://farm66.staticflickr.com/65535/52749619679_2654f25b15.jpg', 'https://farm66.staticflickr.com/65535/52749829723_2028e8bd7e.jpg', 'https://farm66.staticflickr.com/65535/52749305686_a078d725bf.jpg', 'https://farm66.staticflickr.com/65535/52749616073_99f1017bc8.jpg', 'https://farm66.staticflickr.com/65535/52748564842_6eb889306b.jpg', 'https://farm66.staticflickr.com/65535/52749093726_f9ca408018.jpg', 'https://farm66.staticflickr.com/65535/52749186849_dfd04f4236.jpg', 'https://farm66.staticflickr.com/65535/52749267923_732b48f57f.jpg', 'https://farm66.staticflickr.com/65535/52749183810_986792b085.jpg', 'https://farm66.staticflickr.com/65535/52748679456_00f3a5884b.jpg', 'https://farm66.staticflickr.com/65535/52748929958_d58905287a.jpg', 'https://farm66.staticflickr.com/65535/52747904617_1610867bda.jpg', 'https://farm66.staticflickr.com/65535/52747905847_dcb0c99483.jpg', 'https://farm66.staticflickr.com/65535/52748347751_f6ea89f50e.jpg', 'https://farm66.staticflickr.com/65535/52747663427_71d2f6020b.jpg', 'https://farm66.staticflickr.com/65535/52748511030_3080aaecbe.jpg', 'https://farm66.staticflickr.com/65535/52748510755_79e38ca751.jpg', 'https://farm66.staticflickr.com/65535/52748562728_7abbc6a372.jpg', 'https://farm66.staticflickr.com/65535/52748240089_832113a727.jpg', 'https://farm66.staticflickr.com/65535/52748236689_349a0b5024.jpg', 'https://farm66.staticflickr.com/65535/52747989541_09024f6506.jpg', 'https://farm66.staticflickr.com/65535/52748182709_16a9678617.jpg', 'https://farm66.staticflickr.com/65535/52747920761_897a98a259.jpg', 'https://farm66.staticflickr.com/65535/52748165544_cfeaa4aa1c.jpg', 'https://farm66.staticflickr.com/65535/52747964909_bb9f51030f.jpg', 'https://farm66.staticflickr.com/65535/52747947744_26b50cf319.jpg', 'https://farm66.staticflickr.com/65535/52747869989_1fbd70189b.jpg', 'https://farm66.staticflickr.com/65535/52747619651_83435636e7.jpg', 'https://farm66.staticflickr.com/65535/52747997905_a0d42455ba.jpg', 'https://farm66.staticflickr.com/65535/52747042357_0bbd3c438d.jpg', 'https://farm66.staticflickr.com/65535/52747965135_c082cdfe39.jpg', 'https://farm66.staticflickr.com/65535/52747793914_702a80604a.jpg', 'https://farm66.staticflickr.com/65535/52747403566_bd0c71342e.jpg', 'https://farm66.staticflickr.com/65535/52747804410_86832fa0cd.jpg', 'https://farm66.staticflickr.com/65535/52746736967_8afefd7979.jpg', 'https://farm66.staticflickr.com/65535/52747760838_3c7ff17f9c.jpg', 'https://farm66.staticflickr.com/65535/52747509384_144ea0e376.jpg', 'https://farm66.staticflickr.com/65535/52747739173_4cf1a93391.jpg', 'https://farm5.staticflickr.com/4806/45397636485_bfa21970a9.jpg', 'https://farm66.staticflickr.com/65535/52746690387_95cae29c48.jpg', 'https://farm66.staticflickr.com/65535/52747626340_f224da1e05.jpg', 'https://farm66.staticflickr.com/65535/52747702193_9a625a3356.jpg', 'https://farm66.staticflickr.com/65535/52747200941_f9469d93d6.jpg', 'https://farm66.staticflickr.com/65535/52747616025_a467a2d899.jpg', 'https://farm66.staticflickr.com/65535/52746670437_01ba0fbb3e.jpg', 'https://farm66.staticflickr.com/65535/52746657597_09f84a9e2d.jpg', 'https://farm66.staticflickr.com/65535/52747430244_d13b211664.jpg', 'https://farm66.staticflickr.com/65535/52747417624_4df2d68c26.jpg']\n"
     ]
    }
   ],
   "source": [
    "from PIL import Image\n",
    "import flickrapi\n",
    "import requests\n",
    "\n",
    "# Replace with your own API key and secret\n",
    "api_key = '937c5fb63a6d88a2a148aec387c14272'\n",
    "api_secret = 'b21c82310caf7c0f'\n",
    "\n",
    "# Initialize the Flickr API client\n",
    "flickr = flickrapi.FlickrAPI(api_key, api_secret, format='parsed-json')\n",
    "\n",
    "# Use the 'flickr.photos.search' method to search for photos\n",
    "# Here, we're searching for photos tagged with 'cat'\n",
    "result = flickr.photos.search(tags='fashion')\n",
    "\n",
    "# Extract the URLs of the photos\n",
    "photo_urls = []\n",
    "for photo in result['photos']['photo']:\n",
    "    url = f\"https://farm{photo['farm']}.staticflickr.com/{photo['server']}/{photo['id']}_{photo['secret']}.jpg\"\n",
    "    photo_urls.append(url)\n",
    "\n",
    "# Print the list of URLs\n",
    "print(photo_urls)"
   ]
  },
  {
   "cell_type": "code",
   "execution_count": 4,
   "metadata": {},
   "outputs": [],
   "source": [
    "images = []\n",
    "urls = []\n",
    "\n",
    "for url in photo_urls:\n",
    "  try:\n",
    "    images.append(Image.open(requests.get(url, stream=True).raw))\n",
    "    urls.append(url)\n",
    "  except:\n",
    "    # print(f'{url} does not exist')\n",
    "    pass"
   ]
  },
  {
   "cell_type": "code",
   "execution_count": 6,
   "metadata": {},
   "outputs": [],
   "source": [
    "import torch\n",
    "import clip\n",
    "from PIL import Image\n",
    "import requests\n",
    "from io import BytesIO\n",
    "import numpy as np\n",
    "from transformers import CLIPProcessor, CLIPModel\n",
    "\n",
    "# Get model\n",
    "device = \"cuda\" if torch.cuda.is_available() else \"cpu\"\n",
    "model, preprocess = clip.load(\"ViT-B/32\", device=device)"
   ]
  },
  {
   "cell_type": "code",
   "execution_count": 7,
   "metadata": {},
   "outputs": [
    {
     "data": {
      "text/plain": [
       "'4.18.0'"
      ]
     },
     "execution_count": 7,
     "metadata": {},
     "output_type": "execute_result"
    }
   ],
   "source": [
    "import transformers\n",
    "\n",
    "transformers.__version__"
   ]
  },
  {
   "cell_type": "markdown",
   "metadata": {},
   "source": [
    "# Elasticsearch"
   ]
  },
  {
   "cell_type": "code",
   "execution_count": 1,
   "metadata": {},
   "outputs": [],
   "source": [
    "try:\n",
    "  import os\n",
    "  import elasticsearch\n",
    "  from elasticsearch import Elasticsearch\n",
    "  import numpy as np\n",
    "  import pandas as pd\n",
    "  import sys\n",
    "  import json\n",
    "  from ast import literal_eval\n",
    "  from tqdm import tqdm \n",
    "  import datetime\n",
    "  from elasticsearch import helpers\n",
    "  \n",
    "except Exception as e:\n",
    "  print(f\"error: {e}\")"
   ]
  },
  {
   "cell_type": "code",
   "execution_count": 2,
   "metadata": {},
   "outputs": [
    {
     "data": {
      "text/plain": [
       "True"
      ]
     },
     "execution_count": 2,
     "metadata": {},
     "output_type": "execute_result"
    }
   ],
   "source": [
    "es = Elasticsearch(hosts = [{\"host\":\"localhost\", \"port\":9200}])\n",
    "# Check if python is connected to elasticsearch\n",
    "es.ping()"
   ]
  },
  {
   "cell_type": "markdown",
   "metadata": {},
   "source": [
    "# CLIP Image Search"
   ]
  },
  {
   "cell_type": "code",
   "execution_count": 3,
   "metadata": {},
   "outputs": [],
   "source": [
    "INDEX_NAME = 'clip-fashion'\n",
    "VECTOR_DIMS = 512"
   ]
  },
  {
   "cell_type": "code",
   "execution_count": 4,
   "metadata": {},
   "outputs": [
    {
     "name": "stdout",
     "output_type": "stream",
     "text": [
      "dict_keys(['clip-fashion', 'patents-bert'])\n"
     ]
    }
   ],
   "source": [
    "# Retrieve the list of index names\n",
    "index_names = es.indices.get_alias(\"*\").keys()\n",
    "\n",
    "# Print the list of index names\n",
    "print(index_names)"
   ]
  },
  {
   "cell_type": "code",
   "execution_count": 14,
   "metadata": {},
   "outputs": [],
   "source": [
    "from fastapi import FastAPI\n",
    "from pydantic import BaseModel\n",
    "\n",
    "app = FastAPI()\n",
    "class Text(BaseModel):\n",
    "    text: str\n",
    "\n",
    "@app.post(\"/vectorize\")\n",
    "async def vectorize(text: Text):\n",
    "    vector = model.encode_text(text.text)\n",
    "    return {\"vector\": vector.tolist()}"
   ]
  },
  {
   "cell_type": "code",
   "execution_count": 19,
   "metadata": {},
   "outputs": [
    {
     "name": "stderr",
     "output_type": "stream",
     "text": [
      "UsageError: Line magic function `%uvicorn` not found.\n"
     ]
    }
   ],
   "source": [
    "%uvicorn main:app --reload"
   ]
  },
  {
   "cell_type": "code",
   "execution_count": 9,
   "metadata": {},
   "outputs": [
    {
     "ename": "RequestError",
     "evalue": "RequestError(400, 'search_phase_execution_exception', 'runtime error')",
     "output_type": "error",
     "traceback": [
      "\u001b[0;31m---------------------------------------------------------------------------\u001b[0m",
      "\u001b[0;31mRequestError\u001b[0m                              Traceback (most recent call last)",
      "\u001b[0;32m<ipython-input-9-9ca526bf28b8>\u001b[0m in \u001b[0;36m<module>\u001b[0;34m\u001b[0m\n\u001b[1;32m     15\u001b[0m \u001b[0;34m\u001b[0m\u001b[0m\n\u001b[1;32m     16\u001b[0m     response = es.search(index=INDEX_NAME,body={\"size\": 10, \"query\": script_query,\n\u001b[0;32m---> 17\u001b[0;31m                                                     \u001b[0;34m\"_source\"\u001b[0m\u001b[0;34m:\u001b[0m \u001b[0;34m{\u001b[0m\u001b[0;34m\"includes\"\u001b[0m\u001b[0;34m:\u001b[0m \u001b[0;34m[\u001b[0m\u001b[0;34m\"Image_name\"\u001b[0m\u001b[0;34m]\u001b[0m\u001b[0;34m}\u001b[0m\u001b[0;34m\u001b[0m\u001b[0;34m\u001b[0m\u001b[0m\n\u001b[0m\u001b[1;32m     18\u001b[0m                                                     }\n\u001b[1;32m     19\u001b[0m                             )\n",
      "\u001b[0;32m~/opt/anaconda3/envs/tf2/lib/python3.6/site-packages/elasticsearch/client/utils.py\u001b[0m in \u001b[0;36m_wrapped\u001b[0;34m(*args, **kwargs)\u001b[0m\n\u001b[1;32m    137\u001b[0m                 \u001b[0;32mif\u001b[0m \u001b[0mp\u001b[0m \u001b[0;32min\u001b[0m \u001b[0mkwargs\u001b[0m\u001b[0;34m:\u001b[0m\u001b[0;34m\u001b[0m\u001b[0;34m\u001b[0m\u001b[0m\n\u001b[1;32m    138\u001b[0m                     \u001b[0mparams\u001b[0m\u001b[0;34m[\u001b[0m\u001b[0mp\u001b[0m\u001b[0;34m]\u001b[0m \u001b[0;34m=\u001b[0m \u001b[0mkwargs\u001b[0m\u001b[0;34m.\u001b[0m\u001b[0mpop\u001b[0m\u001b[0;34m(\u001b[0m\u001b[0mp\u001b[0m\u001b[0;34m)\u001b[0m\u001b[0;34m\u001b[0m\u001b[0;34m\u001b[0m\u001b[0m\n\u001b[0;32m--> 139\u001b[0;31m             \u001b[0;32mreturn\u001b[0m \u001b[0mfunc\u001b[0m\u001b[0;34m(\u001b[0m\u001b[0;34m*\u001b[0m\u001b[0margs\u001b[0m\u001b[0;34m,\u001b[0m \u001b[0mparams\u001b[0m\u001b[0;34m=\u001b[0m\u001b[0mparams\u001b[0m\u001b[0;34m,\u001b[0m \u001b[0mheaders\u001b[0m\u001b[0;34m=\u001b[0m\u001b[0mheaders\u001b[0m\u001b[0;34m,\u001b[0m \u001b[0;34m**\u001b[0m\u001b[0mkwargs\u001b[0m\u001b[0;34m)\u001b[0m\u001b[0;34m\u001b[0m\u001b[0;34m\u001b[0m\u001b[0m\n\u001b[0m\u001b[1;32m    140\u001b[0m \u001b[0;34m\u001b[0m\u001b[0m\n\u001b[1;32m    141\u001b[0m         \u001b[0;32mreturn\u001b[0m \u001b[0m_wrapped\u001b[0m\u001b[0;34m\u001b[0m\u001b[0;34m\u001b[0m\u001b[0m\n",
      "\u001b[0;32m~/opt/anaconda3/envs/tf2/lib/python3.6/site-packages/elasticsearch/client/__init__.py\u001b[0m in \u001b[0;36msearch\u001b[0;34m(self, body, index, doc_type, params, headers)\u001b[0m\n\u001b[1;32m   1482\u001b[0m             \u001b[0mparams\u001b[0m\u001b[0;34m=\u001b[0m\u001b[0mparams\u001b[0m\u001b[0;34m,\u001b[0m\u001b[0;34m\u001b[0m\u001b[0;34m\u001b[0m\u001b[0m\n\u001b[1;32m   1483\u001b[0m             \u001b[0mheaders\u001b[0m\u001b[0;34m=\u001b[0m\u001b[0mheaders\u001b[0m\u001b[0;34m,\u001b[0m\u001b[0;34m\u001b[0m\u001b[0;34m\u001b[0m\u001b[0m\n\u001b[0;32m-> 1484\u001b[0;31m             \u001b[0mbody\u001b[0m\u001b[0;34m=\u001b[0m\u001b[0mbody\u001b[0m\u001b[0;34m,\u001b[0m\u001b[0;34m\u001b[0m\u001b[0;34m\u001b[0m\u001b[0m\n\u001b[0m\u001b[1;32m   1485\u001b[0m         )\n\u001b[1;32m   1486\u001b[0m \u001b[0;34m\u001b[0m\u001b[0m\n",
      "\u001b[0;32m~/opt/anaconda3/envs/tf2/lib/python3.6/site-packages/elasticsearch/transport.py\u001b[0m in \u001b[0;36mperform_request\u001b[0;34m(self, method, url, headers, params, body)\u001b[0m\n\u001b[1;32m    350\u001b[0m                     \u001b[0mheaders\u001b[0m\u001b[0;34m=\u001b[0m\u001b[0mheaders\u001b[0m\u001b[0;34m,\u001b[0m\u001b[0;34m\u001b[0m\u001b[0;34m\u001b[0m\u001b[0m\n\u001b[1;32m    351\u001b[0m                     \u001b[0mignore\u001b[0m\u001b[0;34m=\u001b[0m\u001b[0mignore\u001b[0m\u001b[0;34m,\u001b[0m\u001b[0;34m\u001b[0m\u001b[0;34m\u001b[0m\u001b[0m\n\u001b[0;32m--> 352\u001b[0;31m                     \u001b[0mtimeout\u001b[0m\u001b[0;34m=\u001b[0m\u001b[0mtimeout\u001b[0m\u001b[0;34m,\u001b[0m\u001b[0;34m\u001b[0m\u001b[0;34m\u001b[0m\u001b[0m\n\u001b[0m\u001b[1;32m    353\u001b[0m                 )\n\u001b[1;32m    354\u001b[0m \u001b[0;34m\u001b[0m\u001b[0m\n",
      "\u001b[0;32m~/opt/anaconda3/envs/tf2/lib/python3.6/site-packages/elasticsearch/connection/http_urllib3.py\u001b[0m in \u001b[0;36mperform_request\u001b[0;34m(self, method, url, params, body, timeout, ignore, headers)\u001b[0m\n\u001b[1;32m    254\u001b[0m                 \u001b[0mmethod\u001b[0m\u001b[0;34m,\u001b[0m \u001b[0mfull_url\u001b[0m\u001b[0;34m,\u001b[0m \u001b[0murl\u001b[0m\u001b[0;34m,\u001b[0m \u001b[0morig_body\u001b[0m\u001b[0;34m,\u001b[0m \u001b[0mduration\u001b[0m\u001b[0;34m,\u001b[0m \u001b[0mresponse\u001b[0m\u001b[0;34m.\u001b[0m\u001b[0mstatus\u001b[0m\u001b[0;34m,\u001b[0m \u001b[0mraw_data\u001b[0m\u001b[0;34m\u001b[0m\u001b[0;34m\u001b[0m\u001b[0m\n\u001b[1;32m    255\u001b[0m             )\n\u001b[0;32m--> 256\u001b[0;31m             \u001b[0mself\u001b[0m\u001b[0;34m.\u001b[0m\u001b[0m_raise_error\u001b[0m\u001b[0;34m(\u001b[0m\u001b[0mresponse\u001b[0m\u001b[0;34m.\u001b[0m\u001b[0mstatus\u001b[0m\u001b[0;34m,\u001b[0m \u001b[0mraw_data\u001b[0m\u001b[0;34m)\u001b[0m\u001b[0;34m\u001b[0m\u001b[0;34m\u001b[0m\u001b[0m\n\u001b[0m\u001b[1;32m    257\u001b[0m \u001b[0;34m\u001b[0m\u001b[0m\n\u001b[1;32m    258\u001b[0m         self.log_request_success(\n",
      "\u001b[0;32m~/opt/anaconda3/envs/tf2/lib/python3.6/site-packages/elasticsearch/connection/base.py\u001b[0m in \u001b[0;36m_raise_error\u001b[0;34m(self, status_code, raw_data)\u001b[0m\n\u001b[1;32m    286\u001b[0m \u001b[0;34m\u001b[0m\u001b[0m\n\u001b[1;32m    287\u001b[0m         raise HTTP_EXCEPTIONS.get(status_code, TransportError)(\n\u001b[0;32m--> 288\u001b[0;31m             \u001b[0mstatus_code\u001b[0m\u001b[0;34m,\u001b[0m \u001b[0merror_message\u001b[0m\u001b[0;34m,\u001b[0m \u001b[0madditional_info\u001b[0m\u001b[0;34m\u001b[0m\u001b[0;34m\u001b[0m\u001b[0m\n\u001b[0m\u001b[1;32m    289\u001b[0m         )\n\u001b[1;32m    290\u001b[0m \u001b[0;34m\u001b[0m\u001b[0m\n",
      "\u001b[0;31mRequestError\u001b[0m: RequestError(400, 'search_phase_execution_exception', 'runtime error')"
     ]
    }
   ],
   "source": [
    "# Query a description\n",
    "import pprint\n",
    "\n",
    "text = clip.tokenize(\"a man\").to(device)\n",
    "\n",
    "with torch.no_grad():\n",
    "    User_Query_Vector = model.encode_text(text)\n",
    "\n",
    "    script_query = {\"script_score\": {\"query\": {\"match_all\": {}},\n",
    "                                    \"script\": {\"source\": \"cosineSimilarity(params.query_vector, doc['Image_vector']) \",\n",
    "                                              \"params\": {\"query_vector\": np.array(model.encode_text(text).squeeze().tolist()) }\n",
    "                                              }\n",
    "                                  }\n",
    "                  }\n",
    "\n",
    "    response = es.search(index=INDEX_NAME,body={\"size\": 10, \"query\": script_query,\n",
    "                                                    \"_source\": {\"includes\": [\"Image_name\"]}\n",
    "                                                    }\n",
    "                            )\n",
    "\n",
    "\n",
    "    pprint.pprint(response)"
   ]
  },
  {
   "cell_type": "code",
   "execution_count": 56,
   "metadata": {},
   "outputs": [
    {
     "name": "stdout",
     "output_type": "stream",
     "text": [
      "Your public IP address is: 77.129.211.10\n"
     ]
    }
   ],
   "source": [
    "import requests\n",
    "\n",
    "response = requests.get(\"http://ipecho.net/plain\")\n",
    "public_ip = response.text\n",
    "print(\"Your public IP address is:\", public_ip)\n",
    "?"
   ]
  },
  {
   "cell_type": "code",
   "execution_count": null,
   "metadata": {},
   "outputs": [],
   "source": []
  }
 ],
 "metadata": {
  "kernelspec": {
   "display_name": "tf2",
   "language": "python",
   "name": "tf2"
  },
  "language_info": {
   "codemirror_mode": {
    "name": "ipython",
    "version": 3
   },
   "file_extension": ".py",
   "mimetype": "text/x-python",
   "name": "python",
   "nbconvert_exporter": "python",
   "pygments_lexer": "ipython3",
   "version": "3.6.10"
  }
 },
 "nbformat": 4,
 "nbformat_minor": 5
}
